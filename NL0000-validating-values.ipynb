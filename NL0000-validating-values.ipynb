{
 "cells": [
  {
   "cell_type": "markdown",
   "id": "b93897e7",
   "metadata": {},
   "source": [
    "# <center>Validating values in NL0000</center>\n",
    "\n",
    "#### This notebook validates the values in each visual of the NL0000 (ARC - Non-University Collaboration) Power BI report and provides test cases to determine the accuracy of the report."
   ]
  },
  {
   "cell_type": "markdown",
   "id": "33252e49",
   "metadata": {},
   "source": [
    "### Table of Contents\n",
    "\n",
    "1. [__Validting values in visuals__](#Validating-values-in-visuals)<br>\n",
    "\n",
    "    1.1 [Main Insight Value - What percentage of grants have non University Partnership in the last deacde?](#1.1)<br>\n",
    "    1.2 [What are the total number of grants?](#1.2)<br>\n",
    "    1.3 [What are total number of Administering Organisations?](#1.3)<br>\n",
    "    1.4 [What are the total number of AUS Organisations?](#1.4)<br>\n",
    "    1.5 [What are the total number of Partner Organisations?](#1.5)<br>\n",
    "    1.6 [What are the total number of Australian Business Register Organisations in each state and territory?](#1.6)<br>\n",
    "    1.7 [Keyword Frequency in Grants](#1.7)<br>\n",
    "    1.8 [Whats are total number of grants for each Field of Research?](#1.8)<br>\n",
    "    1.9 [How many FOR Codes are present in the data?](#1.9)<br>\n",
    "    1.10 [What are the number of grants in each Year since 2013?](#1.10)<br>\n",
    "    1.11 [Socio Economic Objective by Collaborative Grants](#1.11)<br>\n",
    "    1.12 [Funding Scheme by Number of Collaborative Grants](#1.12)<br>\n",
    "    <br>\n",
    "\n",
    "2. [__Test cases based on filtering visuals__](#Test-cases-based-on-filtering-visuals)<br>\n",
    "    \n",
    "    2.1 [Search Box](#2.1)<br><br>\n",
    "    2.1.1 [Interacting with Insight](#2.1.1) <br>\n",
    "    2.1.2 [Interacting with Grants](#2.1.2)<br>\n",
    "    2.1.3 [Interacting with Admin Organisations](#2.1.3)<br>\n",
    "    2.1.4 [Interacting with Partner Organisations](#2.1.4)<br>\n",
    "    2.1.5 [Interacting with Keyword Frequency in Grants](#2.1.5)<br>\n",
    "    2.1.6 [Interacting with Field of Research](#2.1.6)<br>\n",
    "    2.1.7 [Interacting with FOR Codes](#2.1.7)<br>\n",
    "    2.1.8 [Interacting with Commencement Year](#2.1.8)<br>\n",
    "    2.1.9 [Interacting with Socio Economic Objective by Collaborative Grants](#2.1.9)<br>\n",
    "    2.1.10 [Interacting with Funding Scheme by Number of Collaborative Grants](#2.1.10)<br><br>\n",
    "    2.2 [Graph](#2.2)<br><br>\n",
    "    2.2.1 [Interacting with Insight](#2.2.1) <br>\n",
    "    2.2.2 [Interacting with Grants](#2.2.2)<br>\n",
    "    2.2.3 [Interacting with Admin Organisations](#2.2.3)<br>\n",
    "    2.2.4 [Interacting with Partner Organisations](#2.2.4)<br>\n",
    "    2.2.5 [Interacting with Keyword Frequency in Grants](#2.2.5)<br>\n",
    "    2.2.6 [Interacting with Field of Research](#2.2.6)<br>\n",
    "    2.2.7 [Interacting with FOR Codes](#2.2.7)<br>\n",
    "    2.2.8 [Interacting with Commencement Year](#2.2.8)<br>\n",
    "    2.2.9 [Interacting with Socio Economic Objective by Collaborative Grants](#2.2.9)<br>\n",
    "    2.2.10 [Interacting with Funding Scheme by Number of Collaborative Grants](#2.2.10)<br><br>\n",
    "    "
   ]
  },
  {
   "cell_type": "markdown",
   "id": "19ccb498",
   "metadata": {},
   "source": [
    "## 1.Validating values in visuals <a id = \"Validating-values-in-visuals\"></a>\n",
    "\n",
    "Firstly the data path is defined and and the require python packages have been imported into the notebook."
   ]
  },
  {
   "cell_type": "code",
   "execution_count": 1,
   "id": "95f0758f",
   "metadata": {},
   "outputs": [],
   "source": [
    "path = './Data/'\n",
    "\n",
    "import pandas as pd\n",
    "import numpy as np"
   ]
  },
  {
   "cell_type": "markdown",
   "id": "b2616516",
   "metadata": {},
   "source": [
    "### 1.1 Main Insight Value - What percentage of grants have non University Partnership in the last deacde?<a id =\"1.1\"></a>\n",
    "\n",
    "* Main insight of this report is to show the proportion of non university partnerships in ARC funded projects. <br><br>\n",
    "* From the report close to 31 perecent of ARC funded projects involve non university partnerships. <br><br>\n",
    "* In this section we try to answer the question. What proportion of ARC funded projects have gained momentum through non university Partnerships?"
   ]
  },
  {
   "cell_type": "markdown",
   "id": "26a81f84",
   "metadata": {},
   "source": [
    "\"node_arc_grants\" has a list of all the ARC grants inlcuding grants which have a university collaboration and only those that have been granted after and inlcuding those before 2013.\n",
    "\n",
    "\"grant_to_arc_org\" contains information which grant went to which organisation.\n",
    "\n",
    "\"node_arc_orgs\" contains information about the all organisations inlcuding a unique key, name and local id.\n",
    "\n",
    "\"grants.csv\" is created from \"node_arc_grants.csv\". It only has grants after 2013."
   ]
  },
  {
   "cell_type": "code",
   "execution_count": 2,
   "id": "82f13118",
   "metadata": {},
   "outputs": [],
   "source": [
    "node_arc_grants = pd.read_csv(path + 'node_arc_grants.csv', sep = '|', header = 0)\n",
    "\n",
    "grant_to_arc_org = pd.read_csv(path + 'grant_to_arc_org.csv', sep = ',', header = 0)\n",
    "\n",
    "node_arc_orgs = pd.read_csv(path + 'node_arc_orgs.csv', sep = ',', header = 0)\n",
    "\n",
    "grants = pd.read_csv(path + 'Grant.csv', sep = ',')"
   ]
  },
  {
   "cell_type": "markdown",
   "id": "072a6612",
   "metadata": {},
   "source": [
    "For the purpose of validating the main insight, we need to filter out all the non university partners as the source contain information about university partners as well. Hence we merge all the files and then filter out all the non university partners from the resulting data frame."
   ]
  },
  {
   "cell_type": "code",
   "execution_count": 3,
   "id": "83193b71",
   "metadata": {},
   "outputs": [],
   "source": [
    "node_arc_grants.rename(columns = {'key:ID' : 'key'}, inplace = True)\n",
    "\n",
    "grant_to_arc_org.rename(columns = {'arc_grant_key' : 'key'}, inplace = True)\n",
    "\n",
    "node_arc_grants['key'] = node_arc_grants['key'].astype(str)\n",
    "\n",
    "grant_to_arc_org['key'] = grant_to_arc_org['key'].astype(str)\n",
    "\n",
    "left_table = node_arc_grants.merge(grant_to_arc_org, on = 'key', \n",
    "                                   how = 'inner')"
   ]
  },
  {
   "cell_type": "code",
   "execution_count": 4,
   "id": "25c1a770",
   "metadata": {},
   "outputs": [],
   "source": [
    "node_arc_orgs.rename(columns = {'key:ID' : 'arc_org_key'}, inplace = True)\n",
    "\n",
    "node_arc_orgs['arc_org_key'] = node_arc_orgs['arc_org_key'].astype(str)\n",
    "\n",
    "table_for_insight = left_table.merge(node_arc_orgs, on = 'arc_org_key', \n",
    "                                     how = 'inner')"
   ]
  },
  {
   "cell_type": "code",
   "execution_count": 5,
   "id": "2b189386",
   "metadata": {},
   "outputs": [
    {
     "name": "stdout",
     "output_type": "stream",
     "text": [
      "What proportion of ARC funded projects have gained momentum through non university Partnerships? :  31 %\n"
     ]
    }
   ],
   "source": [
    "table_for_insight_mini = table_for_insight[['key', 'name']]\n",
    "\n",
    "table_for_insight_mini_non_uni = table_for_insight[table_for_insight['name'].\n",
    "                                 str.contains('University', case = False) == False]\n",
    "\n",
    "insight = (len(table_for_insight_mini_non_uni) / len(table_for_insight_mini)) * 100\n",
    "\n",
    "print(\"What proportion of ARC funded projects have gained momentum through non university Partnerships? : \",\n",
    "      str(round(insight)) + \" %\")"
   ]
  },
  {
   "cell_type": "markdown",
   "id": "4229f3bd",
   "metadata": {},
   "source": [
    "### 1.2 What are the total number of grants? <a id = \"1.2\"> </a>\n",
    "\n",
    "* In this section we try to validate the total number of ARC grants that involve non university partnerships. <br><br>\n",
    "* According to the Power BI report, the total number of grants involving non university partnerships is 3967."
   ]
  },
  {
   "cell_type": "code",
   "execution_count": 6,
   "id": "e7754a30",
   "metadata": {},
   "outputs": [],
   "source": [
    "table_for_grants = table_for_insight[table_for_insight['name'].\n",
    "                   str.contains('University', case = False) == False]"
   ]
  },
  {
   "cell_type": "markdown",
   "id": "86522aa5",
   "metadata": {},
   "source": [
    "\"Grant.csv\" is created from \"node_arc_grants.csv\", but Grants.csv only contains information about arc grants after 2013. As we only need grants from the last decade, we will be using this file for futher validation. This is also the same file used to create the Power BI report."
   ]
  },
  {
   "cell_type": "code",
   "execution_count": 7,
   "id": "61ce0a99",
   "metadata": {},
   "outputs": [
    {
     "name": "stdout",
     "output_type": "stream",
     "text": [
      "What are the total number of grants involving non university partnerships? : 3967\n"
     ]
    }
   ],
   "source": [
    "list_grants_Grant_csv = list(grants['key'])\n",
    "\n",
    "list_grants_node_arc_orgs_csv = list(table_for_grants['key'])\n",
    "\n",
    "list_missing_grants = []\n",
    "\n",
    "for key in list_grants_node_arc_orgs_csv:\n",
    "    if key not in list_grants_Grant_csv:\n",
    "        list_missing_grants.append(key)\n",
    "        \n",
    "left_table_from_grant_csv = grants.merge(grant_to_arc_org, on = 'key', \n",
    "                                         how = 'inner')\n",
    "\n",
    "table_for_grants = left_table_from_grant_csv.merge(node_arc_orgs, on = 'arc_org_key', \n",
    "                                                   how = 'inner')\n",
    "\n",
    "table_for_grants_non_uni = table_for_grants[table_for_grants['name'].\n",
    "                           str.contains('University', case = False) == False]\n",
    "\n",
    "print(\"What are the total number of grants involving non university partnerships? :\",\n",
    "      len(np.array(table_for_grants_non_uni['key'].unique())))"
   ]
  },
  {
   "cell_type": "markdown",
   "id": "2dd17cc4",
   "metadata": {},
   "source": [
    "### 1.3 What are the total Number of Administering Organisations? <a id = \"1.3\"></a>\n",
    "\n",
    "* This section validates the number of administering organisations that are not universities. <br><br>\n",
    "* According to the report in power BI there are 46 such organisations. We will be verifying this number in section."
   ]
  },
  {
   "cell_type": "code",
   "execution_count": 8,
   "id": "ca422309",
   "metadata": {},
   "outputs": [],
   "source": [
    "table_for_admin_orgs = table_for_insight[table_for_insight['name'].\n",
    "                       str.contains('University', case = False) == False]\n"
   ]
  },
  {
   "cell_type": "code",
   "execution_count": 9,
   "id": "9cc4c42d",
   "metadata": {},
   "outputs": [
    {
     "name": "stdout",
     "output_type": "stream",
     "text": [
      "How many non University Admin Organisations are present? : 46\n"
     ]
    }
   ],
   "source": [
    "list_admin_orgs_Grant_csv = list(grants['announcement-administering-organisation'])\n",
    "\n",
    "list_admin_orgs_node_arc_orgs_csv = list(table_for_admin_orgs['arc_announcement_administering_organisation'])\n",
    "\n",
    "list_missing_admin_orgs = []\n",
    "\n",
    "for key in list_admin_orgs_node_arc_orgs_csv:\n",
    "    if key not in list_admin_orgs_Grant_csv:\n",
    "        list_missing_admin_orgs.append(key)\n",
    "        \n",
    "\n",
    "left_table_from_grant_csv = grants.merge(grant_to_arc_org, on = 'key', \n",
    "                                         how = 'inner')\n",
    "\n",
    "table_for_admin_orgs = left_table_from_grant_csv.merge(node_arc_orgs, on = 'arc_org_key', \n",
    "                                                       how = 'inner')\n",
    "\n",
    "table_for_admin_orgs_non_uni = table_for_admin_orgs[table_for_grants['name'].\n",
    "                               str.contains('University', case = False) == False]\n",
    "\n",
    "print(\"How many non University Admin Organisations are present? :\",\n",
    "      len(np.array(table_for_admin_orgs_non_uni['announcement-administering-organisation'].unique())))"
   ]
  },
  {
   "cell_type": "markdown",
   "id": "2c556bfe",
   "metadata": {},
   "source": [
    "### 1.4 What are the total number of AUS organisation? <a id = \"1.4\"></a>\n",
    "\n",
    "* This section gives an information about the number of organisations that are australian. According to the power BI report there are 5955 australian organisations."
   ]
  },
  {
   "cell_type": "code",
   "execution_count": 10,
   "id": "068e1c1b",
   "metadata": {},
   "outputs": [
    {
     "name": "stdout",
     "output_type": "stream",
     "text": [
      "How many Australian Organisations are Present? : 5955\n"
     ]
    }
   ],
   "source": [
    "node_abr_orgs = pd.read_csv(path + 'node_abr_orgs.csv', sep = '|', \n",
    "                            header = 0)\n",
    "\n",
    "node_abr_orgs_non_uni = node_abr_orgs[node_abr_orgs['name'].\n",
    "                        str.contains('University', case = False) == False]\n",
    "\n",
    "print(\"How many Australian Organisations are Present? :\",\n",
    "      len(np.array(node_abr_orgs_non_uni['name'].unique())))"
   ]
  },
  {
   "cell_type": "markdown",
   "id": "8c15925d",
   "metadata": {},
   "source": [
    "### 1.5 What are the total number of Partner Organisations? <a id = \"1.5\"></a>\n",
    "\n",
    "* This section gives information about the total number of grants for each organisation that is not a university. <br><br>\n",
    "* This data is represented using a donut chart in the Power BI report. <br><br>\n",
    "* We can verify the number of grants for some of the organisations from the list by comparing them with the donut chart in Power BI."
   ]
  },
  {
   "cell_type": "code",
   "execution_count": 11,
   "id": "5323b9c3",
   "metadata": {},
   "outputs": [],
   "source": [
    "table_for_insight_non_uni = table_for_insight[table_for_insight['name'].str.contains('University', \n",
    "                                                                                    case = False) == False]\n",
    "table_for_insight_partner_orgs = table_for_insight_non_uni[['key', 'name']]"
   ]
  },
  {
   "cell_type": "markdown",
   "id": "62844f3f",
   "metadata": {},
   "source": [
    "From the list of organisations given below, we can say that there is a match between the results from this notebook and the NL0000 Power BI report. <br><br>\n",
    "1. Commonwealth scientific and industrial research - 291 Grants. <br><br>\n",
    "2. Imperial college london - 75 Grants. <br><br>\n",
    "3. Melbourne water corporation - 50 Grants."
   ]
  },
  {
   "cell_type": "code",
   "execution_count": 12,
   "id": "5088093e",
   "metadata": {},
   "outputs": [
    {
     "name": "stdout",
     "output_type": "stream",
     "text": [
      "This data is from Grants.csv\n",
      "                                                    key\n",
      "name                                                   \n",
      "Commonwealth scientific and industrial research...  291\n",
      "Australian nuclear science and technology organ...   75\n",
      "Imperial college london                              63\n",
      "Massachusetts institute of technology                51\n",
      "Melbourne water corporation                          50\n",
      "...                                                 ...\n",
      "H.j. heinz company australia limited                  1\n",
      "Gydle inc                                             1\n",
      "Gwydir shire council                                  1\n",
      "Guodian new energy technology research institute      1\n",
      "Landgate                                              1\n",
      "\n",
      "[5458 rows x 1 columns]\n"
     ]
    }
   ],
   "source": [
    "table_for_grants_non_uni = table_for_grants[table_for_grants['name'].str.contains('University', \n",
    "                                                                                    case = False) == False]\n",
    "\n",
    "table_for_grants_partner_orgs = table_for_grants_non_uni[['key', 'name']]\n",
    "\n",
    "print(\"This data is from Grants.csv\")\n",
    "print(table_for_grants_partner_orgs.groupby(['name']).nunique().sort_values(['key'], ascending = False))"
   ]
  },
  {
   "cell_type": "markdown",
   "id": "b49fa50a",
   "metadata": {},
   "source": [
    "### 1.6 How many Australian Business Register Organisations are present in each state and territory? <a id = \"1.6\"></a>\n",
    "\n",
    "* In this section we are verifying the number of Australian registered businesses in state and territory of Australia. <br><br>\n",
    "* From the results below we can confirm that the results from notebook match with the Power BI report."
   ]
  },
  {
   "cell_type": "code",
   "execution_count": 13,
   "id": "02f95451",
   "metadata": {},
   "outputs": [
    {
     "data": {
      "text/plain": [
       "state\n",
       "         56\n",
       "ACT     222\n",
       "NSW    1886\n",
       "NT       86\n",
       "QLD     899\n",
       "SA      468\n",
       "TAS     128\n",
       "VIC    1625\n",
       "WA      589\n",
       "Name: key:ID, dtype: int64"
      ]
     },
     "execution_count": 13,
     "metadata": {},
     "output_type": "execute_result"
    }
   ],
   "source": [
    "node_abr_orgs_non_uni.groupby(['state'])['key:ID'].nunique()"
   ]
  },
  {
   "cell_type": "markdown",
   "id": "51903d76",
   "metadata": {},
   "source": [
    "### 1.7 Keyword Frequency in Grant Summary <a id = \"1.7\"></a>\n",
    "\n",
    "* Each ARC grant is associated with a keyword. <br><br>\n",
    "* In the Power BI report, the \"Keyword Frequency in Grant Summary\" visuals lists the frequencies of all these keywords. This is essentially the number of grants which have that particular keyword associated with it. <br><br>\n",
    "* From the table given below we can verify the frequency of each keyword. <br>\n",
    "\n",
    "<b>**Note : In the Power BI, there is a filter on this visual that eliminates the word \"project\" from the visual.**"
   ]
  },
  {
   "cell_type": "code",
   "execution_count": 14,
   "id": "a03e86ef",
   "metadata": {},
   "outputs": [
    {
     "data": {
      "text/html": [
       "<div>\n",
       "<style scoped>\n",
       "    .dataframe tbody tr th:only-of-type {\n",
       "        vertical-align: middle;\n",
       "    }\n",
       "\n",
       "    .dataframe tbody tr th {\n",
       "        vertical-align: top;\n",
       "    }\n",
       "\n",
       "    .dataframe thead th {\n",
       "        text-align: right;\n",
       "    }\n",
       "</style>\n",
       "<table border=\"1\" class=\"dataframe\">\n",
       "  <thead>\n",
       "    <tr style=\"text-align: right;\">\n",
       "      <th></th>\n",
       "      <th>key</th>\n",
       "    </tr>\n",
       "    <tr>\n",
       "      <th>keywords_by_gensim</th>\n",
       "      <th></th>\n",
       "    </tr>\n",
       "  </thead>\n",
       "  <tbody>\n",
       "    <tr>\n",
       "      <th>project</th>\n",
       "      <td>1761</td>\n",
       "    </tr>\n",
       "    <tr>\n",
       "      <th>australia</th>\n",
       "      <td>261</td>\n",
       "    </tr>\n",
       "    <tr>\n",
       "      <th>research</th>\n",
       "      <td>259</td>\n",
       "    </tr>\n",
       "    <tr>\n",
       "      <th>technology</th>\n",
       "      <td>234</td>\n",
       "    </tr>\n",
       "    <tr>\n",
       "      <th>industry</th>\n",
       "      <td>171</td>\n",
       "    </tr>\n",
       "  </tbody>\n",
       "</table>\n",
       "</div>"
      ],
      "text/plain": [
       "                     key\n",
       "keywords_by_gensim      \n",
       "project             1761\n",
       "australia            261\n",
       "research             259\n",
       "technology           234\n",
       "industry             171"
      ]
     },
     "execution_count": 14,
     "metadata": {},
     "output_type": "execute_result"
    }
   ],
   "source": [
    "grant_summary = pd.read_csv(path + 'grant_summary(v2).csv', sep = ',', header = 0)\n",
    "\n",
    "table_for_keyword_summary = table_for_grants_non_uni.merge(grant_summary, on = 'code', how = 'inner')\n",
    "\n",
    "table_for_keyword_summary_cal = table_for_keyword_summary[['key', 'keywords_by_gensim']]\n",
    "\n",
    "table_for_keyword_summary_cal.groupby(['keywords_by_gensim']).nunique().\\\n",
    "                                        sort_values(['key'], ascending = False).head()"
   ]
  },
  {
   "cell_type": "markdown",
   "id": "1bbaea7d",
   "metadata": {},
   "source": [
    "### 1.8 What are the number of grants for each field of research? <a id = \"1.8\"></a>\n",
    "\n",
    "* Each ARC grant has a research area in focus. This field of research could be Engineering, Technology, Environmental Sciences etc <br><br>\n",
    "\n",
    "* Each field of research is further divided into sub categories. For instance Environmental Science is divided into six sub categories which are <br>\n",
    "    1. Enviromental Biotechnology\n",
    "    2. Soil Sciences\n",
    "    3. Pollution and Contamination\n",
    "    4. Ecological Applications\n",
    "    5. Environmental Science and Management\n",
    "    6. Other Environmental Sciences <br><br>\n",
    "    \n",
    "* In this section we verify the number of grants for each of these sub categories in all the categories present in the data."
   ]
  },
  {
   "cell_type": "code",
   "execution_count": 15,
   "id": "550b45ec",
   "metadata": {},
   "outputs": [],
   "source": [
    "for_graph = pd.read_csv(path + 'FOR_graph.csv', sep = ',', header = 0)\n",
    "\n",
    "grant_for = pd.read_csv(path + 'grant_for.csv', sep = ',', header = 0)\n",
    "\n",
    "grant_for.rename(columns = {'Code' : 'code'}, inplace = True)\n",
    "\n",
    "for_graph['key'] = for_graph['Type'].map(str) + ':' + '0' + for_graph['TargetCode'].map(str)\n",
    "\n",
    "left_table_field_research = table_for_grants_non_uni.merge(grant_for, on = 'code', how = 'inner')\n",
    "\n",
    "left_table_field_research.rename(columns = {'key_y' : 'key'}, inplace = True)\n",
    "\n",
    "table_for_field_research = left_table_field_research.merge(for_graph, on = 'key', how = 'inner')"
   ]
  },
  {
   "cell_type": "code",
   "execution_count": 16,
   "id": "429efc39",
   "metadata": {},
   "outputs": [
    {
     "name": "stdout",
     "output_type": "stream",
     "text": [
      "                                              key_x\n",
      "TargetFOR                                          \n",
      "Environmental Science and Management            282\n",
      "Materials Engineering                           275\n",
      "Biochemistry and Cell Biology                   259\n",
      "Civil Engineering                               195\n",
      "Artificial Intelligence and Image Processing    189\n"
     ]
    }
   ],
   "source": [
    "table_for_field_research_cal = table_for_field_research[['key_x', 'TargetFOR']]\n",
    "\n",
    "print(table_for_field_research_cal.groupby(['TargetFOR']).nunique().\\\n",
    "      sort_values(['key_x'], ascending = False).head())"
   ]
  },
  {
   "cell_type": "markdown",
   "id": "1f2b8eac",
   "metadata": {},
   "source": [
    "### 1.9 How may FOR Codes are present in the data?<a id = \"1.9\"></a>\n",
    "\n",
    "* For all the field of research categories and subcategories in the dataset, there is unique identifier called FOR Code. <br><br>\n",
    "* For example, FOR Code for Mathematical Sciences is \"01\" and FOR Code for Pure Mathematics which is a sub category of Mathematical Sciences is \"0101\". <br><br>\n",
    "* In this section we verify the number of FOR Codes, which is essentially the cumulative number of categories or sub categories associated with all the grants."
   ]
  },
  {
   "cell_type": "code",
   "execution_count": 17,
   "id": "cd43fdb8",
   "metadata": {},
   "outputs": [
    {
     "name": "stdout",
     "output_type": "stream",
     "text": [
      "How many FOR Codes are present? : 175\n"
     ]
    }
   ],
   "source": [
    "print(\"How many FOR Codes are present? :\",len(np.array(left_table_field_research['key'].unique())))"
   ]
  },
  {
   "cell_type": "markdown",
   "id": "eaad1b5b",
   "metadata": {},
   "source": [
    "### 1.10 What are number of grants in each Year since 2013? <a id = \"1.10\"></a>"
   ]
  },
  {
   "cell_type": "markdown",
   "id": "54fa332d",
   "metadata": {},
   "source": [
    "* This sections lists out the number of grants funded by ARC which involve a non universit partner for each year from 2013-2023.<br><br>\n",
    "* From the table below we can confirm that the number of grants for all the years match with the numbers in the Power BI report."
   ]
  },
  {
   "cell_type": "code",
   "execution_count": 18,
   "id": "f57ec09e",
   "metadata": {},
   "outputs": [
    {
     "data": {
      "text/plain": [
       "funding-commencement-year\n",
       "2013    515\n",
       "2014    504\n",
       "2015    447\n",
       "2016    420\n",
       "2017    309\n",
       "2018    326\n",
       "2019    328\n",
       "2020    455\n",
       "2021    384\n",
       "2022    279\n",
       "Name: key, dtype: int64"
      ]
     },
     "execution_count": 18,
     "metadata": {},
     "output_type": "execute_result"
    }
   ],
   "source": [
    "table_for_grants_non_uni.groupby(['funding-commencement-year'])['key'].nunique()"
   ]
  },
  {
   "cell_type": "markdown",
   "id": "e7591b2a",
   "metadata": {},
   "source": [
    "### 1.11 Socio Economic Objective by number of collaborative Grants <a id = \"1.11\"></a>\n",
    "\n",
    "* Every project funded by ARC will have a socio economic objective that the project is intended to acheive. <br><br>\n",
    "* This section lists out number of grants for every socio economic objective.<br><br>\n",
    "* From the table below we can verify that the numbers in the Power BI report are accurate."
   ]
  },
  {
   "cell_type": "code",
   "execution_count": 19,
   "id": "17e3989f",
   "metadata": {},
   "outputs": [],
   "source": [
    "socio_economic_objective = pd.read_csv(path + 'socio_economic_objective.csv', sep = ',', header = 0)\n",
    "\n",
    "socio_economic_objective.rename(columns = {'Grant Code' : 'code', 'Code' : 'key'}, inplace = True)\n",
    "\n",
    "table_for_socio_economic_objective = table_for_grants_non_uni.merge(socio_economic_objective,\n",
    "                                                           on = 'code', how = 'inner')"
   ]
  },
  {
   "cell_type": "code",
   "execution_count": 20,
   "id": "6b761877",
   "metadata": {},
   "outputs": [
    {
     "data": {
      "text/html": [
       "<div>\n",
       "<style scoped>\n",
       "    .dataframe tbody tr th:only-of-type {\n",
       "        vertical-align: middle;\n",
       "    }\n",
       "\n",
       "    .dataframe tbody tr th {\n",
       "        vertical-align: top;\n",
       "    }\n",
       "\n",
       "    .dataframe thead th {\n",
       "        text-align: right;\n",
       "    }\n",
       "</style>\n",
       "<table border=\"1\" class=\"dataframe\">\n",
       "  <thead>\n",
       "    <tr style=\"text-align: right;\">\n",
       "      <th></th>\n",
       "      <th>key_x</th>\n",
       "    </tr>\n",
       "    <tr>\n",
       "      <th>Name</th>\n",
       "      <th></th>\n",
       "    </tr>\n",
       "  </thead>\n",
       "  <tbody>\n",
       "    <tr>\n",
       "      <th>Expanding Knowledge In the Biological Sciences</th>\n",
       "      <td>489</td>\n",
       "    </tr>\n",
       "    <tr>\n",
       "      <th>Expanding Knowledge In the Physical Sciences</th>\n",
       "      <td>369</td>\n",
       "    </tr>\n",
       "    <tr>\n",
       "      <th>Expanding Knowledge In Engineering</th>\n",
       "      <td>308</td>\n",
       "    </tr>\n",
       "    <tr>\n",
       "      <th>Expanding Knowledge In Technology</th>\n",
       "      <td>264</td>\n",
       "    </tr>\n",
       "    <tr>\n",
       "      <th>Expanding Knowledge In the Chemical Sciences</th>\n",
       "      <td>206</td>\n",
       "    </tr>\n",
       "  </tbody>\n",
       "</table>\n",
       "</div>"
      ],
      "text/plain": [
       "                                                key_x\n",
       "Name                                                 \n",
       "Expanding Knowledge In the Biological Sciences    489\n",
       "Expanding Knowledge In the Physical Sciences      369\n",
       "Expanding Knowledge In Engineering                308\n",
       "Expanding Knowledge In Technology                 264\n",
       "Expanding Knowledge In the Chemical Sciences      206"
      ]
     },
     "execution_count": 20,
     "metadata": {},
     "output_type": "execute_result"
    }
   ],
   "source": [
    "table_for_socio_economic_objective_cal = table_for_socio_economic_objective[['Name', 'key_x']]\n",
    "\n",
    "table_for_socio_economic_objective_cal.groupby(['Name']).nunique().sort_values(['key_x'], ascending = False).head()"
   ]
  },
  {
   "cell_type": "markdown",
   "id": "fff7f542",
   "metadata": {},
   "source": [
    "### 1.12 Funding Scheme by Number of Collaborative Grants <a id = \"1.12\"></a>\n",
    "\n",
    "* This section validates the number of grants for each scheme name in ARC funded projects.<br><br>\n",
    "* From the below table, we can confirm that the values in Power BI report match with the values in the table."
   ]
  },
  {
   "cell_type": "code",
   "execution_count": 21,
   "id": "7de86bf7",
   "metadata": {},
   "outputs": [
    {
     "name": "stdout",
     "output_type": "stream",
     "text": [
      "This data is from Grants.csv\n",
      "                                                   key\n",
      "scheme-name                                           \n",
      "Linkage Projects                                  1953\n",
      "Discovery Projects                                1468\n",
      "Linkage Infrastructure, Equipment and Facilities   235\n",
      "ARC Future Fellowships                             113\n",
      "Industrial Transformation Training Centres          63\n",
      "Industrial Transformation Research Hubs             47\n",
      "Special Research Initiatives                        30\n",
      "ARC Centres of Excellence                           29\n",
      "Discovery Indigenous                                26\n",
      "Discovery Early Career Researcher Award              3\n"
     ]
    }
   ],
   "source": [
    "table_for_funding_scheme_non_uni_non_Grant = table_for_grants_non_uni[['scheme-name', 'key']]\n",
    "\n",
    "print(\"This data is from Grants.csv\")\n",
    "\n",
    "print(table_for_funding_scheme_non_uni_non_Grant.groupby(['scheme-name']).\\\n",
    "                        nunique().sort_values(['key'], ascending = False))"
   ]
  },
  {
   "cell_type": "markdown",
   "id": "2f7da487",
   "metadata": {},
   "source": [
    "## 2. Test cases based on filtering visuals. <a id = \"Test-cases-based-on-filtering-visuals\"></a>\n",
    "\n",
    "Now that the numbers on each visual have been verified. Now its time to move onto the next section of this notebook, which is about validating the numbers on all the visuals when a filter is applied to one of them.<br><br>\n",
    "\n",
    "Power BI provides a functionality of only displaying the information about a selection made on one of the visuals. This information will be validated in section of the report.\n",
    "\n",
    "<b> NOTE : There may be some visuals on this Power BI report that donot filter some visuals. Only the visuals that are being filter by a selection on a visual will be validated</b>"
   ]
  },
  {
   "cell_type": "markdown",
   "id": "277250c7",
   "metadata": {},
   "source": [
    "### 2.1 Seach Box <a id = \"2.1\"></a>\n",
    "\n",
    "* The NL0000 contains a search box which filter the report on name of the organisation. \n",
    "    * For example, if \"google\" is typed in the search box, all the visuals that have an interaction with the search box will only information about google.<br><br>\n",
    "* Search box filter all the visuals except the following.\n",
    "    1. Aus Organisation\n",
    "    2. Australian Registered Business Organisations<br><br>\n",
    "* This section validates the values by perfroming a search on two orgnisations.\n",
    "    1. google\n",
    "    2. commonwealth scientific and industrial research organisation"
   ]
  },
  {
   "cell_type": "markdown",
   "id": "2a7d4dff",
   "metadata": {},
   "source": [
    "#### 2.1.1 Interaction with Main Insight <a id = \"2.1.1\"></a>\n",
    "\n",
    "* This section will validate the filtered main insight result, after an organisation names are typed in the search box.\n",
    "* The result of this filter is the proportion of non university collaborations for the searched organisation."
   ]
  },
  {
   "cell_type": "code",
   "execution_count": 22,
   "id": "e5e11c15",
   "metadata": {},
   "outputs": [
    {
     "name": "stdout",
     "output_type": "stream",
     "text": [
      "What proportion of ARC funded projects have gained momentum through non university Partnerships? :  0 %\n"
     ]
    }
   ],
   "source": [
    "table_for_insight_mini = table_for_insight[['key', 'name']]\n",
    "\n",
    "table_for_insight_mini_non_uni = table_for_insight[table_for_insight['name'].\n",
    "                                 str.contains('University', case = False) == False]\n",
    "\n",
    "table_for_insight_mini_google = table_for_insight_mini[table_for_insight_mini['name'].\n",
    "                                str.contains('google', case = False)]\n",
    "\n",
    "table_for_insight_mini_non_uni_google = table_for_insight_mini_non_uni[table_for_insight_mini_non_uni['name'].\n",
    "                                        str.contains('goole', case = False)]\n",
    "\n",
    "insight = (len(table_for_insight_mini_non_uni_google) / len(table_for_insight_mini_google)) * 100\n",
    "\n",
    "print(\"What proportion of ARC funded projects have gained momentum through non university Partnerships? : \",\n",
    "        str(round(insight)) + \" %\")"
   ]
  },
  {
   "cell_type": "code",
   "execution_count": 23,
   "id": "58342f67",
   "metadata": {},
   "outputs": [
    {
     "name": "stdout",
     "output_type": "stream",
     "text": [
      "What proportion of ARC funded projects have gained momentum through non university Partnerships? :  57 %\n"
     ]
    }
   ],
   "source": [
    "table_for_insight_mini = table_for_insight[['key', 'name']]\n",
    "\n",
    "table_for_insight_mini_non_uni = table_for_insight[table_for_insight['name'].\n",
    "                                 str.contains('University', case = False) == False]\n",
    "\n",
    "table_for_insight_mini_csiro = table_for_insight_mini[table_for_insight_mini['name'].\n",
    "                               str.contains('commonwealth scientific and industrial research organisation',\n",
    "                               case = False)]\n",
    "\n",
    "table_for_insight_mini_non_uni_csiro = table_for_grants_non_uni[table_for_grants_non_uni['name'].\n",
    "                                       str.contains('commonwealth scientific and industrial research organisation', \n",
    "                                       case = False)]\n",
    "\n",
    "table_for_grants_csiro = table_for_grants_non_uni[table_for_grants_non_uni['name'].\n",
    "                         str.contains('commonwealth scientific and industrial research organisation', \n",
    "                         case = False)]\n",
    "\n",
    "\n",
    "insight = (len(np.array(table_for_grants_csiro['key'].unique())) / \n",
    "           len(np.array(table_for_insight_mini_csiro['key'].unique()))) * 100\n",
    "\n",
    "print(\"What proportion of ARC funded projects have gained momentum through non university Partnerships? : \",\n",
    "        str(round(insight)) + \" %\")  "
   ]
  },
  {
   "cell_type": "markdown",
   "id": "b21ffb71",
   "metadata": {},
   "source": [
    "#### 2.1.2 Interaction with Grants <a id = \"2.1.2\"></a>\n",
    "\n",
    "* This section will validate the number of grants, after an organisation names are typed in the search box.\n",
    "* The result of this filter is the total number of grants, which are not in collaboration with a university for the searched organisation."
   ]
  },
  {
   "cell_type": "code",
   "execution_count": 24,
   "id": "a5ecd5db",
   "metadata": {},
   "outputs": [
    {
     "name": "stdout",
     "output_type": "stream",
     "text": [
      "What are the total number of grants when \"google\" is searched? : 3\n"
     ]
    }
   ],
   "source": [
    "table_for_grants_google = table_for_grants_non_uni[table_for_grants_non_uni['name'].\n",
    "                                              str.contains('google', case = False)]\n",
    "\n",
    "print(\"What are the total number of grants when \\\"google\\\" is searched? :\",\n",
    "      len(np.array(table_for_grants_google['key'].unique())))"
   ]
  },
  {
   "cell_type": "code",
   "execution_count": 25,
   "id": "b6786c24",
   "metadata": {},
   "outputs": [
    {
     "name": "stdout",
     "output_type": "stream",
     "text": [
      "What are the total number of grants when \"commonwealth scientific and industrial research organisation\" is searched? : 291\n"
     ]
    }
   ],
   "source": [
    "table_for_grants_csiro = table_for_grants_non_uni[table_for_grants_non_uni['name'].\n",
    "                         str.contains('commonwealth scientific and industrial research organisation', \n",
    "                         case = False)]\n",
    "\n",
    "print(\"What are the total number of grants when \\\"commonwealth scientific and industrial research organisation\\\" is searched? :\",\n",
    "      len(np.array(table_for_grants_csiro['key'].unique())))"
   ]
  },
  {
   "cell_type": "markdown",
   "id": "daa8b837",
   "metadata": {},
   "source": [
    "#### 2.1.3 Interaction with Admin Organisation <a id = \"2.1.3\"></a>\n",
    "\n",
    "* This section will validate the number of administering organisations, after an organisation names are typed in the search box.\n",
    "* The result of this filter is the total number of grants where the searched organisation has an administering organisation for that particular grant at the time of announcement of the grant."
   ]
  },
  {
   "cell_type": "code",
   "execution_count": 26,
   "id": "e1dd51e3",
   "metadata": {},
   "outputs": [
    {
     "name": "stdout",
     "output_type": "stream",
     "text": [
      "How many non University Admin Organisations are returned when google is searched? : 3\n"
     ]
    }
   ],
   "source": [
    "table_for_admin_orgs_google = table_for_admin_orgs_non_uni[table_for_admin_orgs_non_uni['name'].\n",
    "                                                          str.contains('google', case = False)]\n",
    "\n",
    "print(\"How many non University Admin Organisations are returned when google is searched? :\",\n",
    "      len(np.array(table_for_admin_orgs_google['announcement-administering-organisation'].unique())))"
   ]
  },
  {
   "cell_type": "code",
   "execution_count": 27,
   "id": "c072bc32",
   "metadata": {},
   "outputs": [
    {
     "name": "stdout",
     "output_type": "stream",
     "text": [
      "How many non University Admin Organisations are returned when csiro is searched? : 35\n"
     ]
    }
   ],
   "source": [
    "table_for_admin_orgs_csiro = table_for_admin_orgs_non_uni[table_for_admin_orgs_non_uni['name'].\n",
    "                                                          str.contains('commonwealth scientific and industrial research organisation',\n",
    "                                                                       case = False)]\n",
    "\n",
    "print(\"How many non University Admin Organisations are returned when csiro is searched? :\",\n",
    "      len(np.array(table_for_admin_orgs_csiro['announcement-administering-organisation'].unique())))"
   ]
  },
  {
   "cell_type": "markdown",
   "id": "a7433332",
   "metadata": {},
   "source": [
    "#### 2.1.4 Interaction with FOR Codes <a id = \"2.1.4\"></a>\n",
    "\n",
    "* This section will validate the number of FOR codes, after an organisation names are typed in the search box.\n",
    "* The result of this filter is the total count of FOR(Field of Research Codes) that are associated with the organisation that has been searched for."
   ]
  },
  {
   "cell_type": "code",
   "execution_count": 28,
   "id": "cfb6f08c",
   "metadata": {},
   "outputs": [
    {
     "name": "stdout",
     "output_type": "stream",
     "text": [
      "How many FOR Codes are returned when google is searched? : 10\n"
     ]
    }
   ],
   "source": [
    "table_for_codes_google = left_table_field_research[left_table_field_research['name'].str.contains('google',\n",
    "                                                                                                 case = False)]\n",
    "\n",
    "print(\"How many FOR Codes are returned when google is searched? :\",len(np.array(table_for_codes_google['key'].unique())))"
   ]
  },
  {
   "cell_type": "code",
   "execution_count": 29,
   "id": "f4cc9601",
   "metadata": {},
   "outputs": [
    {
     "name": "stdout",
     "output_type": "stream",
     "text": [
      "How many FOR Codes are returned when csiro is searched? : 94\n"
     ]
    }
   ],
   "source": [
    "table_for_codes_google = left_table_field_research[left_table_field_research['name'].\n",
    "                         str.contains('commonwealth scientific and industrial research organisation',\n",
    "                         case = False)]\n",
    "\n",
    "print(\"How many FOR Codes are returned when csiro is searched? :\",len(np.array(table_for_codes_google['key'].unique())))"
   ]
  },
  {
   "cell_type": "markdown",
   "id": "f3b126b3",
   "metadata": {},
   "source": [
    "#### 2.1.5 Interaction with Partner Organisations <a id = \"2.1.5\"></a>\n",
    "\n",
    "* This section will validate the partner organisations, after an organisation names are typed in the search box.\n",
    "* The result of this filter is the number of grants in which the organisation that has been searched for is a partner organisation."
   ]
  },
  {
   "cell_type": "code",
   "execution_count": 30,
   "id": "4e29ef0b",
   "metadata": {},
   "outputs": [
    {
     "name": "stdout",
     "output_type": "stream",
     "text": [
      "                          key\n",
      "name                         \n",
      "Google australia pty ltd    2\n",
      "Google llc                  1\n"
     ]
    }
   ],
   "source": [
    "table_for_grants_google = table_for_grants_non_uni[table_for_grants_non_uni['name'].\n",
    "                                                   str.contains('google', case = False)]\n",
    "\n",
    "table_for_grants_google = table_for_grants_google[['name', 'key']]\n",
    "\n",
    "print(table_for_grants_google.groupby(['name']).nunique())"
   ]
  },
  {
   "cell_type": "code",
   "execution_count": 31,
   "id": "f05c2827",
   "metadata": {},
   "outputs": [
    {
     "name": "stdout",
     "output_type": "stream",
     "text": [
      "                                                    key\n",
      "name                                                   \n",
      "Commonwealth scientific and industrial research...  291\n"
     ]
    }
   ],
   "source": [
    "table_for_grants_csiro = table_for_grants_non_uni[table_for_grants_non_uni['name'].\n",
    "                                                   str.contains('commonwealth scientific and industrial research organisation', \n",
    "                                                                case = False)]\n",
    "\n",
    "table_for_grants_csiro = table_for_grants_csiro[['name', 'key']]\n",
    "\n",
    "print(table_for_grants_csiro.groupby(['name']).nunique())"
   ]
  },
  {
   "cell_type": "markdown",
   "id": "6eec0e7c",
   "metadata": {},
   "source": [
    "#### 2.1.6 Interaction with Keyword Frequency in Grants Summary <a id = \"2.1.6\"></a>\n",
    "\n",
    "* This section will validate the frequency of each keyword in the grant summary, after an organisation names are typed in the search box.\n",
    "* The result of this filter is the total number of times a keyword in repeated from all the grants that are associated with the searched keywords."
   ]
  },
  {
   "cell_type": "code",
   "execution_count": 32,
   "id": "e2f3e317",
   "metadata": {},
   "outputs": [
    {
     "name": "stdout",
     "output_type": "stream",
     "text": [
      "                    key\n",
      "keywords_by_gensim     \n",
      "centre                2\n",
      "adm                   1\n",
      "algorithm             1\n",
      "automated             1\n",
      "child                 1\n"
     ]
    }
   ],
   "source": [
    "table_for_keyword_summary_google = table_for_keyword_summary[table_for_keyword_summary['name'].str.contains('google',\n",
    "                                                                                                           case = False)]\n",
    "\n",
    "table_for_keyword_summary_google = table_for_keyword_summary_google[['keywords_by_gensim', 'key']]\n",
    "\n",
    "print(table_for_keyword_summary_google.groupby(['keywords_by_gensim']).nunique().sort_values(['key'], ascending = False).head())"
   ]
  },
  {
   "cell_type": "code",
   "execution_count": 33,
   "id": "f6ba09d7",
   "metadata": {},
   "outputs": [
    {
     "name": "stdout",
     "output_type": "stream",
     "text": [
      "                    key\n",
      "keywords_by_gensim     \n",
      "project              97\n",
      "research             38\n",
      "technology           25\n",
      "centre               24\n",
      "material             24\n"
     ]
    }
   ],
   "source": [
    "table_for_keyword_summary_csiro = table_for_keyword_summary[table_for_keyword_summary['name'].\n",
    "                                         str.contains('commonwealth scientific and industrial research organisation',\n",
    "                                         case = False)]\n",
    "\n",
    "table_for_keyword_summary_csiro = table_for_keyword_summary_csiro[['keywords_by_gensim', 'key']]\n",
    "\n",
    "print(table_for_keyword_summary_csiro.groupby(['keywords_by_gensim']).nunique().sort_values(['key'], ascending = False).head())"
   ]
  },
  {
   "cell_type": "markdown",
   "id": "27ae580d",
   "metadata": {},
   "source": [
    "#### 2.1.7 Interaction with Fields of Research <a id = \"2.1.7\"></a>\n",
    "\n",
    "* This section will validate the Fields of Research, after an organisation names are typed in the search box.\n",
    "* The result of this filter is the number of grants in each field of research, that the searched organisation is associated with.\n",
    "* Two or more fields of research can be associated with a single grant. For instance, a single organisation might be working in 10 research field and might only have 3 grants."
   ]
  },
  {
   "cell_type": "code",
   "execution_count": 34,
   "id": "fb56b554",
   "metadata": {},
   "outputs": [
    {
     "name": "stdout",
     "output_type": "stream",
     "text": [
      "                                         key_x\n",
      "TargetFOR                                     \n",
      "Computation Theory and Mathematics           1\n",
      "Information Systems                          1\n",
      "Quantum Physics                              1\n",
      "Theoretical and Computational Chemistry      1\n"
     ]
    }
   ],
   "source": [
    "table_for_field_research_google = table_for_field_research[table_for_field_research['name'].str.contains('google',\n",
    "                                                                                                        case = False)]\n",
    "table_for_field_research_google = table_for_field_research_google[['key_x', 'TargetFOR']]\n",
    "\n",
    "print(table_for_field_research_google.groupby(['TargetFOR']).nunique().sort_values(['key_x'], ascending = False))"
   ]
  },
  {
   "cell_type": "code",
   "execution_count": 35,
   "id": "bf9351e3",
   "metadata": {},
   "outputs": [
    {
     "name": "stdout",
     "output_type": "stream",
     "text": [
      "                                      key_x\n",
      "TargetFOR                                  \n",
      "Oceanography                             31\n",
      "Environmental Science and Management     31\n",
      "Materials Engineering                    25\n",
      "Plant Biology                            23\n",
      "Atmospheric Sciences                     23\n"
     ]
    }
   ],
   "source": [
    "table_for_field_research_google = table_for_field_research[table_for_field_research['name'].\n",
    "                                        str.contains('commonwealth scientific and industrial research organisation',\n",
    "                                        case = False)]\n",
    "\n",
    "table_for_field_research_google = table_for_field_research_google[['key_x', 'TargetFOR']]\n",
    "\n",
    "print(table_for_field_research_google.groupby(['TargetFOR']).nunique().sort_values(['key_x'], ascending = False).head())"
   ]
  },
  {
   "cell_type": "markdown",
   "id": "8f9e8213",
   "metadata": {},
   "source": [
    "#### 2.1.8 Interaction with commencement year <a id = \"2.1.8\"></a>\n",
    "\n",
    "* This section will validate the grants by commencement year, after an organisation names are typed in the search box.\n",
    "* The result of this filter is the number of grants in each year that are undertaken by the searched organisation."
   ]
  },
  {
   "cell_type": "code",
   "execution_count": 36,
   "id": "31eef6a7",
   "metadata": {},
   "outputs": [
    {
     "name": "stdout",
     "output_type": "stream",
     "text": [
      "funding-commencement-year\n",
      "2019    1\n",
      "2020    2\n",
      "Name: key, dtype: int64\n"
     ]
    }
   ],
   "source": [
    "table_for_year_google = table_for_grants_non_uni[table_for_grants_non_uni['name'].str.contains('google',\n",
    "                                                                                              case = False)]\n",
    "print(table_for_year_google.groupby(['funding-commencement-year'])['key'].nunique())"
   ]
  },
  {
   "cell_type": "code",
   "execution_count": 37,
   "id": "190e59fe",
   "metadata": {},
   "outputs": [
    {
     "name": "stdout",
     "output_type": "stream",
     "text": [
      "funding-commencement-year\n",
      "2013    41\n",
      "2014    46\n",
      "2015    31\n",
      "2016    32\n",
      "2017    28\n",
      "2018    24\n",
      "2019    22\n",
      "2020    25\n",
      "2021    17\n",
      "2022    25\n",
      "Name: key, dtype: int64\n"
     ]
    }
   ],
   "source": [
    "table_for_year_google = table_for_grants_non_uni[table_for_grants_non_uni['name'].\n",
    "                                                 str.contains('commonwealth scientific and industrial research organisation',\n",
    "                                                 case = False)]\n",
    "\n",
    "print(table_for_year_google.groupby(['funding-commencement-year'])['key'].nunique())"
   ]
  },
  {
   "cell_type": "markdown",
   "id": "d0635154",
   "metadata": {},
   "source": [
    "#### 2.1.9 Interaction with socio economic objective by number of collaborative grants <a id = \"2.1.9\"></a>\n",
    "\n",
    "* This section will validate the socio economic objectives, after an organisation names are typed in the search box.\n",
    "* The result of this filter is the number of grants in socio economic objective that the searched orgnisation is working to achieve.\n",
    "* Each grant might be trying to achieve one or more than one socio economic objective."
   ]
  },
  {
   "cell_type": "code",
   "execution_count": 38,
   "id": "f6d4cdbe",
   "metadata": {},
   "outputs": [
    {
     "name": "stdout",
     "output_type": "stream",
     "text": [
      "                                                    key_x\n",
      "Name                                                     \n",
      "Child Health                                            1\n",
      "Evaluation of Health Outcomes                           1\n",
      "Expanding Knowledge In Technology                       1\n",
      "Expanding Knowledge In the Chemical Sciences            1\n",
      "Expanding Knowledge In the Information and Comp...      1\n",
      "Expanding Knowledge In the Physical Sciences            1\n",
      "Learner Development                                     1\n",
      "Structure, Delivery and Financing of Community ...      1\n",
      "The Media                                               1\n"
     ]
    }
   ],
   "source": [
    "table_for_socio_economic_objective_google = table_for_socio_economic_objective[table_for_socio_economic_objective\n",
    "                                                                               ['name'].str.contains('google', case = False)]\n",
    "\n",
    "table_for_socio_economic_objective_google = table_for_socio_economic_objective_google[['Name', 'key_x']]\n",
    "\n",
    "print(table_for_socio_economic_objective_google.groupby(['Name']).nunique().sort_values(['key_x'], ascending = False))"
   ]
  },
  {
   "cell_type": "code",
   "execution_count": 39,
   "id": "a26ea605",
   "metadata": {},
   "outputs": [
    {
     "name": "stdout",
     "output_type": "stream",
     "text": [
      "                                                key_x\n",
      "Name                                                 \n",
      "Expanding Knowledge In the Biological Sciences     40\n",
      "Expanding Knowledge In the Physical Sciences       33\n",
      "Expanding Knowledge In Engineering                 26\n",
      "Expanding Knowledge In the Chemical Sciences       25\n",
      "Expanding Knowledge In Technology                  23\n"
     ]
    }
   ],
   "source": [
    "table_for_socio_economic_objective_csiro = table_for_socio_economic_objective[table_for_socio_economic_objective['name']\n",
    "                                            .str.contains('commonwealth scientific and industrial research organisation', \n",
    "                                            case = False)]\n",
    "\n",
    "table_for_socio_economic_objective_csiro = table_for_socio_economic_objective_csiro[['Name', 'key_x']]\n",
    "\n",
    "print(table_for_socio_economic_objective_csiro.groupby(['Name']).nunique().sort_values(['key_x'], ascending = False).head())"
   ]
  },
  {
   "cell_type": "markdown",
   "id": "636ae650",
   "metadata": {},
   "source": [
    "#### 2.1.10 Interacting with funding scheme by number of collaborative grants <a id = \"2.1.10\"></a>\n",
    "\n",
    "* This section will validate the funding scheme, after an organisation names are typed in the search box.\n",
    "* The result of this filter is the number of grants in each funding scheme, that the searched organisation is associated with."
   ]
  },
  {
   "cell_type": "code",
   "execution_count": 40,
   "id": "7287c4fe",
   "metadata": {},
   "outputs": [
    {
     "name": "stdout",
     "output_type": "stream",
     "text": [
      "                           key\n",
      "scheme-name                   \n",
      "ARC Centres of Excellence    2\n",
      "Discovery Projects           1\n"
     ]
    }
   ],
   "source": [
    "table_for_funding_scheme_google = table_for_grants_non_uni[table_for_grants_non_uni['name'].\n",
    "                                                           str.contains('google', case = False)]\n",
    "\n",
    "table_for_funding_scheme_google = table_for_funding_scheme_google[['scheme-name', 'key']]\n",
    "\n",
    "print(table_for_funding_scheme_google.groupby(['scheme-name']).\\\n",
    "                                                    nunique().sort_values(['key'], ascending = False))"
   ]
  },
  {
   "cell_type": "code",
   "execution_count": 41,
   "id": "a20f95b7",
   "metadata": {},
   "outputs": [
    {
     "name": "stdout",
     "output_type": "stream",
     "text": [
      "                                                  key\n",
      "scheme-name                                          \n",
      "Discovery Projects                                137\n",
      "Linkage Infrastructure, Equipment and Facilities   51\n",
      "Linkage Projects                                   48\n",
      "Industrial Transformation Training Centres         22\n",
      "ARC Centres of Excellence                          12\n",
      "Industrial Transformation Research Hubs            10\n",
      "ARC Future Fellowships                              5\n",
      "Special Research Initiatives                        3\n",
      "Discovery Early Career Researcher Award             2\n",
      "Discovery Indigenous                                1\n"
     ]
    }
   ],
   "source": [
    "table_for_funding_scheme_csiro = table_for_grants_non_uni[table_for_grants_non_uni['name'].\n",
    "                                 str.contains('commonwealth scientific and industrial research organisation',\n",
    "                                 case = False)]\n",
    "\n",
    "table_for_funding_scheme_csiro = table_for_funding_scheme_csiro[['scheme-name', 'key']]\n",
    "\n",
    "print(table_for_funding_scheme_csiro.groupby(['scheme-name']).\\\n",
    "                                                    nunique().sort_values(['key'], ascending = False))"
   ]
  },
  {
   "cell_type": "markdown",
   "id": "9ffae266",
   "metadata": {},
   "source": [
    "### 2.2 Fields of Research <a id = \"2.2\"></a>\n",
    "\n",
    "* NL0000 has a Drill down graph named \"Fields of Research\". The graph is depicted in such a way that each field of research is connected to its subcategory. For instance, if Chemical Sciences is taken, which is a field of research in the report, it is connected to eight subcategories. The main field of research here, is the parent node and the sub categories are child nodes.\n",
    "<br><br>\n",
    "\n",
    "* A selection on this graph filter all the visuals except the following:\n",
    "    1. Search Box\n",
    "    2. AUS Organisation <br><br>\n",
    "    \n",
    "* To validate the results of selection on this graph, the following fields of research will be used:\n",
    "    1. Chemical Sciences (Parent Node)\n",
    "    2. Astronomical and Space Sciences (Child node of Physical Sciences)"
   ]
  },
  {
   "cell_type": "markdown",
   "id": "404de6fb",
   "metadata": {},
   "source": [
    "#### 2.2.1 Interaction with Main Insight <a id = \"2.2.1\"></a>\n",
    "\n",
    "* This section will validate the filtered main insight result, after a field of research name is selected in the graph.\n",
    "* The result of this filter is the proportion of non university collaborations for the selected field of research."
   ]
  },
  {
   "cell_type": "code",
   "execution_count": 42,
   "id": "89d2b854",
   "metadata": {},
   "outputs": [
    {
     "name": "stdout",
     "output_type": "stream",
     "text": [
      "What proportion of ARC funded projects have gained momentum through non university Partnerships? :  100 %\n"
     ]
    }
   ],
   "source": [
    "table_for_insight_as = table_for_field_research[table_for_field_research['TargetFOR'].\n",
    "                                                str.contains('Astronomical and Space Sciences', case = False)]\n",
    "\n",
    "table_for_grants_as = table_for_field_research[table_for_field_research['TargetFOR'].\n",
    "                                                   str.contains('Astronomical and Space Sciences', case = False)]\n",
    "\n",
    "number_of_grants_as = np.array(table_for_insight_as['key_x'].unique())\n",
    "\n",
    "table_for_grants_as = table_for_grants_as[table_for_grants_as['TargetFOR'].\n",
    "                                          str.contains('Astronomical and Space Sciences', case = False)]\n",
    "\n",
    "total_number_of_grants_as = np.array(table_for_grants_as['key_x'].unique())\n",
    "\n",
    "insight = (len(number_of_grants_as) / len(total_number_of_grants_as)) * 100\n",
    "\n",
    "print(\"What proportion of ARC funded projects have gained momentum through non university Partnerships? : \",\n",
    "        str(round(insight)) + \" %\")"
   ]
  },
  {
   "cell_type": "code",
   "execution_count": 43,
   "id": "92db691a",
   "metadata": {},
   "outputs": [
    {
     "name": "stdout",
     "output_type": "stream",
     "text": [
      "What proportion of ARC funded projects have gained momentum through non university Partnerships? :  100 %\n"
     ]
    }
   ],
   "source": [
    "table_for_insight_cs = table_for_field_research[table_for_field_research['SourceFOR'].\n",
    "                                                str.contains('Chemical Sciences', case = False)]\n",
    "\n",
    "table_for_grants_cs = table_for_field_research[table_for_field_research['SourceFOR'].\n",
    "                                               str.contains('Chemical Sciences', case = False)]\n",
    "\n",
    "number_of_grants_cs = np.array(table_for_insight_cs['key_x'].unique())\n",
    "\n",
    "table_for_grants_cs = table_for_grants_cs[table_for_grants_cs['SourceFOR'].\n",
    "                                          str.contains('Chemical Sciences', case = False)]\n",
    "\n",
    "total_number_of_grants_cs = np.array(table_for_grants_cs['key_x'].unique())\n",
    "\n",
    "insight = (len(number_of_grants_cs) / len(total_number_of_grants_cs)) * 100\n",
    "\n",
    "print(\"What proportion of ARC funded projects have gained momentum through non university Partnerships? : \",\n",
    "        str(round(insight)) + \" %\")"
   ]
  },
  {
   "cell_type": "markdown",
   "id": "82122cf4",
   "metadata": {},
   "source": [
    "#### 2.2.2 Interaction with Grants <a id = \"2.2.2\"></a>\n",
    "\n",
    "* This section will validate the number of grants, after a field of research is selected in the graph.\n",
    "* The result of this filter is the total number of grants, which are not in collaboration with a university for the selected field of research."
   ]
  },
  {
   "cell_type": "code",
   "execution_count": 44,
   "id": "7bd6e959",
   "metadata": {},
   "outputs": [
    {
     "name": "stdout",
     "output_type": "stream",
     "text": [
      "What are the total number of grants when \"Chemical Sciences\" is selected on the graph? : 378\n"
     ]
    }
   ],
   "source": [
    "table_for_grants_cs = table_for_field_research[table_for_field_research['SourceFOR'].\n",
    "                                               str.contains('Chemical Sciences', case = False)]\n",
    "\n",
    "print(\"What are the total number of grants when \\\"Chemical Sciences\\\" is selected on the graph? :\",\n",
    "          len(np.array(table_for_grants_cs['key_x'].unique())))"
   ]
  },
  {
   "cell_type": "code",
   "execution_count": 45,
   "id": "ef15a8ee",
   "metadata": {},
   "outputs": [
    {
     "name": "stdout",
     "output_type": "stream",
     "text": [
      "What are the total number of grants when \"Astronomical and Space Sciences\" is selected on the graph? : 134\n"
     ]
    }
   ],
   "source": [
    "table_for_grants_as = table_for_field_research[table_for_field_research['TargetFOR'].\n",
    "                                                   str.contains('Astronomical and Space Sciences', case = False)]\n",
    "\n",
    "print(\"What are the total number of grants when \\\"Astronomical and Space Sciences\\\" is selected on the graph? :\",\n",
    "          len(np.array(table_for_grants_as['key_x'].unique())))"
   ]
  },
  {
   "cell_type": "markdown",
   "id": "f43afcbe",
   "metadata": {},
   "source": [
    "#### 2.2.3 Interaction with Admin Organisations <a id = \"2.2.3\"></a>\n",
    "\n",
    "* This section will validate the number of administering organisations, after a field of research is selected in the graph.\n",
    "* The result of this filter is the total number of grants where the selected field of research has an administering organisation for that particular grant at the time of announcement of the grant."
   ]
  },
  {
   "cell_type": "code",
   "execution_count": 46,
   "id": "05172c9b",
   "metadata": {},
   "outputs": [
    {
     "name": "stdout",
     "output_type": "stream",
     "text": [
      "How many non University Admin Organisations are returned when \"Chemical Sciences\" is selected on the graph? : 31\n"
     ]
    }
   ],
   "source": [
    "table_for_admin_orgs_cs = table_for_field_research[table_for_field_research['SourceFOR'].\n",
    "                                                   str.contains('Chemical Sciences', case = False)]\n",
    "\n",
    "print(\"How many non University Admin Organisations are returned when \\\"Chemical Sciences\\\" is selected on the graph? :\",\n",
    "          len(np.array(table_for_admin_orgs_cs['announcement-administering-organisation'].unique())))"
   ]
  },
  {
   "cell_type": "code",
   "execution_count": 47,
   "id": "353fe60d",
   "metadata": {},
   "outputs": [
    {
     "name": "stdout",
     "output_type": "stream",
     "text": [
      "How many non University Admin Organisations are returned when \"Astronomical and Space Sciences\" is selected on the graph? : 17\n"
     ]
    }
   ],
   "source": [
    "table_for_grants_orgs_as = table_for_field_research[table_for_field_research['TargetFOR'].\n",
    "                                                   str.contains('Astronomical and Space Sciences', case = False)]\n",
    "\n",
    "print(\"How many non University Admin Organisations are returned when \\\"Astronomical and Space Sciences\\\" is selected on the graph? :\",\n",
    "          len(np.array(table_for_grants_orgs_as['announcement-administering-organisation'].unique())))"
   ]
  },
  {
   "cell_type": "markdown",
   "id": "eeba2006",
   "metadata": {},
   "source": [
    "#### 2.2.4 Interation with FOR Codes <a id = \"2.2.4\"></a>\n",
    "\n",
    "* This section will validate the number of FOR codes, after a field of research is selected in the graph.\n",
    "* The result of this filter is the total count of FOR(Field of Research Codes) that are associated with the field of research that has been selected."
   ]
  },
  {
   "cell_type": "code",
   "execution_count": 48,
   "id": "200c0d0a",
   "metadata": {},
   "outputs": [
    {
     "name": "stdout",
     "output_type": "stream",
     "text": [
      "How many FOR Codes are present for \"Chemical Sciences\"? : 8\n"
     ]
    }
   ],
   "source": [
    "table_field_research_for_cs = table_for_field_research[table_for_field_research['SourceFOR'].\n",
    "                                                         str.contains('Chemical Sciences', case = False)]\n",
    "\n",
    "print(\"How many FOR Codes are present for \\\"Chemical Sciences\\\"? :\",\n",
    "      len(np.array(table_field_research_for_cs['TargetFOR'].unique())))"
   ]
  },
  {
   "cell_type": "code",
   "execution_count": 49,
   "id": "665a7831",
   "metadata": {},
   "outputs": [
    {
     "name": "stdout",
     "output_type": "stream",
     "text": [
      "How many FOR Codes are present for \"Astronomical and Space Sciences\"? : 1\n"
     ]
    }
   ],
   "source": [
    "table_field_research_for_as = table_for_field_research[table_for_field_research['TargetFOR'].\n",
    "                                                         str.contains('Astronomical and Space Sciences', case = False)]\n",
    "\n",
    "print(\"How many FOR Codes are present for \\\"Astronomical and Space Sciences\\\"? :\",\n",
    "      len(np.array(table_field_research_for_as['TargetFOR'].unique())))"
   ]
  },
  {
   "cell_type": "markdown",
   "id": "c79ab329",
   "metadata": {},
   "source": [
    "#### 2.2.5 Interaction with Partner Organisations <a id = \"2.2.5\"></a>\n",
    "\n",
    "* This section will validate the partner organisations, after a field of research has been selected on the graph.\n",
    "* The result of this filter is the number of grants in which the field of research that has been selected for is a partner organisation."
   ]
  },
  {
   "cell_type": "code",
   "execution_count": 50,
   "id": "3ce43c56",
   "metadata": {},
   "outputs": [
    {
     "name": "stdout",
     "output_type": "stream",
     "text": [
      "                                                    key_x\n",
      "name                                                     \n",
      "Commonwealth scientific and industrial research...     38\n",
      "Australian nuclear science and technology organ...     24\n",
      "The walter and eliza hall institute of medical ...     10\n",
      "Synchrotron light source australia pty ltd              7\n",
      "Imperial college london                                 7\n"
     ]
    }
   ],
   "source": [
    "table_for_partner_orgs_cs = table_for_field_research[table_for_field_research['SourceFOR'].\n",
    "                                                   str.contains('Chemical Sciences', case = False)]\n",
    "\n",
    "table_for_partner_orgs_cs = table_for_partner_orgs_cs[['name', 'key_x']]\n",
    "\n",
    "print(table_for_partner_orgs_cs.groupby(['name']).nunique().sort_values(['key_x'], ascending = False).head())"
   ]
  },
  {
   "cell_type": "code",
   "execution_count": 51,
   "id": "95bd9631",
   "metadata": {},
   "outputs": [
    {
     "name": "stdout",
     "output_type": "stream",
     "text": [
      "                                                    key_x\n",
      "name                                                     \n",
      "Australian astronomical observatory                    31\n",
      "Commonwealth scientific and industrial research...     21\n",
      "California institute of technology, usa                13\n",
      "Massachusetts institute of technology                   8\n",
      "Max planck institute for radio astronomy                7\n"
     ]
    }
   ],
   "source": [
    "table_for_partner_orgs_as = table_for_field_research[table_for_field_research['TargetFOR'].\n",
    "                                                   str.contains('Astronomical and Space Sciences', case = False)]\n",
    "\n",
    "table_for_partner_orgs_as = table_for_partner_orgs_as[['name', 'key_x']]\n",
    "\n",
    "print(table_for_partner_orgs_as.groupby(['name']).nunique().sort_values(['key_x'], ascending = False).head())"
   ]
  },
  {
   "cell_type": "markdown",
   "id": "8593b3a2",
   "metadata": {},
   "source": [
    "#### 2.2.6 Interaction with Keyword Frequency in Grants Summary <a id = \"2.2.6\"></a>\n",
    "\n",
    "* This section will validate the frequency of each keyword in the grant summary, after a field of research has been selected on the graph.\n",
    "* The result of this filter is the total number of times a keyword in repeated from all the grants that are associated with the field of research."
   ]
  },
  {
   "cell_type": "code",
   "execution_count": 52,
   "id": "be23c73a",
   "metadata": {},
   "outputs": [
    {
     "name": "stdout",
     "output_type": "stream",
     "text": [
      "                    key_x\n",
      "keywords_by_gensim       \n",
      "project               161\n",
      "material               50\n",
      "research               35\n",
      "energy                 32\n",
      "cell                   29\n"
     ]
    }
   ],
   "source": [
    "table_for_keyword_summary_graph = table_for_field_research.merge(grant_summary, on = 'code', how = 'inner')\n",
    "\n",
    "table_for_keyword_summary_cs = table_for_keyword_summary_graph[table_for_keyword_summary_graph['SourceFOR']\n",
    "                                                               .str.contains('Chemical Sciences', case = False)]\n",
    "\n",
    "table_for_keyword_summary_cs = table_for_keyword_summary_cs[['keywords_by_gensim', 'key_x']]\n",
    "\n",
    "print(table_for_keyword_summary_cs.groupby(['keywords_by_gensim']).nunique().\\\n",
    "      sort_values(['key_x'], ascending = False).head())"
   ]
  },
  {
   "cell_type": "code",
   "execution_count": 53,
   "id": "8af23174",
   "metadata": {},
   "outputs": [
    {
     "name": "stdout",
     "output_type": "stream",
     "text": [
      "                    key_x\n",
      "keywords_by_gensim       \n",
      "project                57\n",
      "telescope              20\n",
      "galaxy                 20\n",
      "wave                   19\n",
      "universe               16\n"
     ]
    }
   ],
   "source": [
    "table_for_keyword_summary_as = table_for_keyword_summary_graph[table_for_keyword_summary_graph['TargetFOR']\n",
    "                                            .str.contains('Astronomical and Space Sciences', case = False)]\n",
    "\n",
    "table_for_keyword_summary_as = table_for_keyword_summary_as[['keywords_by_gensim', 'key_x']]\n",
    "\n",
    "print(table_for_keyword_summary_as.groupby(['keywords_by_gensim']).nunique().\\\n",
    "      sort_values(['key_x'], ascending = False).head())"
   ]
  },
  {
   "cell_type": "markdown",
   "id": "306c8fe5",
   "metadata": {},
   "source": [
    "#### 2.2.7 Interaction with Fields of Research <a id = \"2.2.7\"></a>\n",
    "\n",
    "* This section will validate the Fields of Research, after a field of research has been selected on the graph.\n",
    "* The result of this filter is the number of grants in each field of research, that the broader field of research is associated with.\n",
    "* A parent field of research, like technology, might have many child fields. When a child node is selected in the graph, the field of research visual in the Power BI report, will only show a single bar."
   ]
  },
  {
   "cell_type": "code",
   "execution_count": 54,
   "id": "996623b2",
   "metadata": {},
   "outputs": [
    {
     "name": "stdout",
     "output_type": "stream",
     "text": [
      "                                        key_x\n",
      "TargetFOR                                    \n",
      "Physical Chemistry (Incl. Structural)     115\n",
      "Macromolecular and Materials Chemistry    106\n",
      "Medicinal and Biomolecular Chemistry       76\n",
      "Analytical Chemistry                       57\n",
      "Other Chemical Sciences                    51\n"
     ]
    }
   ],
   "source": [
    "table_field_research_field_cs = table_for_field_research[table_for_field_research['SourceFOR'].\n",
    "                                                         str.contains('Chemical Sciences', case = False)]\n",
    "\n",
    "table_field_research_field_cs = table_field_research_field_cs[['key_x', 'TargetFOR']]\n",
    "\n",
    "print(table_field_research_field_cs.groupby(['TargetFOR']).nunique().\\\n",
    "      sort_values(['key_x'], ascending = False).head())"
   ]
  },
  {
   "cell_type": "code",
   "execution_count": 55,
   "id": "72046672",
   "metadata": {},
   "outputs": [
    {
     "name": "stdout",
     "output_type": "stream",
     "text": [
      "                                 key_x\n",
      "TargetFOR                             \n",
      "Astronomical and Space Sciences    134\n"
     ]
    }
   ],
   "source": [
    "table_field_research_field_as = table_for_field_research[table_for_field_research['TargetFOR'].\n",
    "                                                         str.contains('Astronomical and Space Sciences', case = False)]\n",
    "\n",
    "table_field_research_field_as = table_field_research_field_as[['key_x', 'TargetFOR']]\n",
    "\n",
    "print(table_field_research_field_as.groupby(['TargetFOR']).nunique().sort_values(['key_x'], ascending = False))"
   ]
  },
  {
   "cell_type": "markdown",
   "id": "8cc0c253",
   "metadata": {},
   "source": [
    "#### 2.2.8 Interaction with Commencement Year <a id = \"2.2.8\"></a>\n",
    "\n",
    "* This section will validate the grants by commencement year, after a field of research is selected in the graph.\n",
    "* The result of this filter is the number of grants in each year that are undertaken in the selected field of research."
   ]
  },
  {
   "cell_type": "code",
   "execution_count": 56,
   "id": "e917ae44",
   "metadata": {},
   "outputs": [
    {
     "name": "stdout",
     "output_type": "stream",
     "text": [
      "funding-commencement-year\n",
      "2013    50\n",
      "2014    51\n",
      "2015    35\n",
      "2016    38\n",
      "2017    40\n",
      "2018    32\n",
      "2019    33\n",
      "2020    38\n",
      "2021    40\n",
      "2022    21\n",
      "Name: key_x, dtype: int64\n"
     ]
    }
   ],
   "source": [
    "table_for_year_cs = table_for_field_research[table_for_field_research['SourceFOR'].\n",
    "                                             str.contains('Chemical Sciences', case = False)]\n",
    "\n",
    "print(table_for_year_cs.groupby(['funding-commencement-year'])['key_x'].nunique())"
   ]
  },
  {
   "cell_type": "code",
   "execution_count": 57,
   "id": "86fa1c67",
   "metadata": {},
   "outputs": [
    {
     "name": "stdout",
     "output_type": "stream",
     "text": [
      "funding-commencement-year\n",
      "2013    13\n",
      "2014    17\n",
      "2015    16\n",
      "2016    19\n",
      "2017    16\n",
      "2018    11\n",
      "2019     8\n",
      "2020    12\n",
      "2021    13\n",
      "2022     9\n",
      "Name: key_x, dtype: int64\n"
     ]
    }
   ],
   "source": [
    "table_for_year_cs = table_for_field_research[table_for_field_research['TargetFOR'].\n",
    "                                             str.contains('Astronomical and Space Sciences', case = False)]\n",
    "\n",
    "print(table_for_year_cs.groupby(['funding-commencement-year'])['key_x'].nunique())"
   ]
  },
  {
   "cell_type": "markdown",
   "id": "cb837466",
   "metadata": {},
   "source": [
    "#### 2.2.9 Interaction with Socio Economic Objective by Collaborative Grants <a id = \"2.2.9\"></a>\n",
    "\n",
    "* This section will validate the socio economic objectives, after a field of research is selected in the graph.\n",
    "* The result of this filter is the number of grants in socio economic objective that the selected field of research is working to achieve.\n",
    "* Each grant might be trying to achieve one or more than one socio economic objective."
   ]
  },
  {
   "cell_type": "code",
   "execution_count": 58,
   "id": "bf454b3f",
   "metadata": {},
   "outputs": [],
   "source": [
    "left_table_for_socio_economic_objective_field = table_for_socio_economic_objective.merge(grant_for, \n",
    "                                                                        on = 'code', how = 'inner')\n",
    "\n",
    "table_for_socio_economic_objective_field = left_table_for_socio_economic_objective_field.merge(for_graph, \n",
    "                                                                        on = 'key', how = 'inner')"
   ]
  },
  {
   "cell_type": "code",
   "execution_count": 59,
   "id": "ce180d9d",
   "metadata": {},
   "outputs": [
    {
     "name": "stdout",
     "output_type": "stream",
     "text": [
      "                                                key_x\n",
      "Name                                                 \n",
      "Expanding Knowledge In the Chemical Sciences      163\n",
      "Expanding Knowledge In the Biological Sciences     74\n",
      "Expanding Knowledge In the Physical Sciences       40\n",
      "Expanding Knowledge In Technology                  37\n",
      "Expanding Knowledge In Engineering                 31\n"
     ]
    }
   ],
   "source": [
    "table_for_socio_economic_objective_field_cs = table_for_socio_economic_objective_field[\n",
    "                                            table_for_socio_economic_objective_field['SourceFOR']\n",
    "                                            .str.contains('Chemical Sciences', case = False)]\n",
    "\n",
    "table_for_socio_economic_objective_field_cs = table_for_socio_economic_objective_field_cs[['Name', 'key_x']]\n",
    "\n",
    "print(table_for_socio_economic_objective_field_cs.groupby(['Name']).nunique().\\\n",
    "      sort_values(['key_x'], ascending = False).head())"
   ]
  },
  {
   "cell_type": "code",
   "execution_count": 60,
   "id": "3f1d556f",
   "metadata": {},
   "outputs": [
    {
     "name": "stdout",
     "output_type": "stream",
     "text": [
      "                                                    key_x\n",
      "Name                                                     \n",
      "Expanding Knowledge In the Physical Sciences          120\n",
      "Expanding Knowledge In Technology                      26\n",
      "Scientific Instruments                                 15\n",
      "Expanding Knowledge In Engineering                     14\n",
      "Expanding Knowledge In the Information and Comp...     10\n"
     ]
    }
   ],
   "source": [
    "table_for_socio_economic_objective_field_as = table_for_socio_economic_objective_field[\n",
    "                                            table_for_socio_economic_objective_field['TargetFOR']\n",
    "                                            .str.contains('Astronomical and Space Sciences', case = False)]\n",
    "\n",
    "table_for_socio_economic_objective_field_as = table_for_socio_economic_objective_field_as[['Name', 'key_x']]\n",
    "\n",
    "print(table_for_socio_economic_objective_field_as.groupby(['Name']).nunique().\\\n",
    "      sort_values(['key_x'], ascending = False).head())"
   ]
  },
  {
   "cell_type": "markdown",
   "id": "2f8657f6",
   "metadata": {},
   "source": [
    "#### 2.2.10 Funding Scheme by Number of Collaborative Grants <a id = \"2.2.10\"></a>\n",
    "\n",
    "* This section will validate the funding scheme, after a field of research is selected in the graph.\n",
    "* The result of this filter is the number of grants in each funding scheme, that the field of research is associated with."
   ]
  },
  {
   "cell_type": "code",
   "execution_count": 61,
   "id": "0d200be6",
   "metadata": {},
   "outputs": [
    {
     "name": "stdout",
     "output_type": "stream",
     "text": [
      "                                                  key_x\n",
      "scheme-name                                            \n",
      "Linkage Projects                                    155\n",
      "Discovery Projects                                  147\n",
      "Linkage Infrastructure, Equipment and Facilities     42\n",
      "ARC Future Fellowships                               10\n",
      "Industrial Transformation Training Centres            9\n",
      "ARC Centres of Excellence                             5\n",
      "Special Research Initiatives                          5\n",
      "Industrial Transformation Research Hubs               4\n",
      "Discovery Indigenous                                  1\n"
     ]
    }
   ],
   "source": [
    "table_for_funding_scheme_cs = table_for_field_research[table_for_field_research['SourceFOR'].\n",
    "                                                        str.contains('Chemical Sciences', case = False)]\n",
    "\n",
    "table_for_funding_scheme_cs = table_for_funding_scheme_cs[['scheme-name', 'key_x']]\n",
    "\n",
    "print(table_for_funding_scheme_cs.groupby(['scheme-name']).\\\n",
    "       nunique().sort_values(['key_x'], ascending = False))"
   ]
  },
  {
   "cell_type": "code",
   "execution_count": 62,
   "id": "533381b9",
   "metadata": {},
   "outputs": [
    {
     "name": "stdout",
     "output_type": "stream",
     "text": [
      "                                                  key_x\n",
      "scheme-name                                            \n",
      "Discovery Projects                                   58\n",
      "Linkage Infrastructure, Equipment and Facilities     46\n",
      "ARC Future Fellowships                               13\n",
      "Linkage Projects                                     12\n",
      "ARC Centres of Excellence                             3\n",
      "Discovery Early Career Researcher Award               1\n",
      "Industrial Transformation Training Centres            1\n"
     ]
    }
   ],
   "source": [
    "table_for_funding_scheme_as = table_for_field_research[table_for_field_research['TargetFOR'].\n",
    "                                        str.contains('Astronomical and Space Sciences', case = False)]\n",
    "\n",
    "table_for_funding_scheme_as = table_for_funding_scheme_as[['scheme-name', 'key_x']]\n",
    "\n",
    "print(table_for_funding_scheme_as.groupby(['scheme-name']).\\\n",
    "      nunique().sort_values(['key_x'], ascending = False))"
   ]
  }
 ],
 "metadata": {
  "kernelspec": {
   "display_name": "Python 3 (ipykernel)",
   "language": "python",
   "name": "python3"
  },
  "language_info": {
   "codemirror_mode": {
    "name": "ipython",
    "version": 3
   },
   "file_extension": ".py",
   "mimetype": "text/x-python",
   "name": "python",
   "nbconvert_exporter": "python",
   "pygments_lexer": "ipython3",
   "version": "3.8.10"
  }
 },
 "nbformat": 4,
 "nbformat_minor": 5
}
