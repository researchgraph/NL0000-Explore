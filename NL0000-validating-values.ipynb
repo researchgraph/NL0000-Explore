{
 "cells": [
  {
   "cell_type": "markdown",
   "id": "4bf3f1dd",
   "metadata": {},
   "source": [
    "# Validating values in NL0000"
   ]
  },
  {
   "cell_type": "code",
   "execution_count": 1,
   "id": "1407821a",
   "metadata": {},
   "outputs": [],
   "source": [
    "path = './Data/'\n",
    "\n",
    "import pandas as pd\n",
    "import numpy as np"
   ]
  },
  {
   "cell_type": "markdown",
   "id": "c374a620",
   "metadata": {},
   "source": [
    "## Insight "
   ]
  },
  {
   "cell_type": "code",
   "execution_count": 2,
   "id": "e7a82893",
   "metadata": {},
   "outputs": [],
   "source": [
    "node_arc_grants = pd.read_csv(path + 'node_arc_grants.csv', sep = '|', header = 0)\n",
    "grant_to_arc_org = pd.read_csv(path + 'grant_to_arc_org.csv', sep = ',', header = 0)\n",
    "node_arc_orgs = pd.read_csv(path + 'node_arc_orgs.csv', sep = ',', header = 0)\n"
   ]
  },
  {
   "cell_type": "code",
   "execution_count": 3,
   "id": "9261926c",
   "metadata": {},
   "outputs": [
    {
     "name": "stdout",
     "output_type": "stream",
     "text": [
      "key:ID                                          object\n",
      "source                                          object\n",
      "local_id                                        object\n",
      "last_updated                                    object\n",
      "url                                             object\n",
      "title                                           object\n",
      "purl                                            object\n",
      "participant_list                                object\n",
      "funder                                          object\n",
      "start_year                                     float64\n",
      "end_year                                       float64\n",
      "arc_announcement_administering_organisation     object\n",
      "arc_scheme_name                                 object\n",
      "arc_grant_status                                object\n",
      "arc_for                                         object\n",
      "arc_rfcd                                        object\n",
      "arc_funding_at_announcement                      int64\n",
      "source_file                                     object\n",
      "type                                            object\n",
      ":LABEL                                          object\n",
      "r_number                                         int64\n",
      "dtype: object\n",
      "------------------------------------------------------------\n",
      "arc_grant_key    object\n",
      "arc_org_key      object\n",
      "dtype: object\n",
      "------------------------------------------------------------\n",
      "key:ID          object\n",
      "source          object\n",
      "local_id        object\n",
      "last_updated    object\n",
      "name            object\n",
      "source_file     object\n",
      "type            object\n",
      ":LABEL          object\n",
      "dtype: object\n"
     ]
    }
   ],
   "source": [
    "print(node_arc_grants.dtypes)\n",
    "print('------------------------------------------------------------')\n",
    "print(grant_to_arc_org.dtypes)\n",
    "print('------------------------------------------------------------')\n",
    "print(node_arc_orgs.dtypes)"
   ]
  },
  {
   "cell_type": "code",
   "execution_count": 4,
   "id": "1774890e",
   "metadata": {},
   "outputs": [],
   "source": [
    "node_arc_grants.rename(columns = {'key:ID' : 'key'}, inplace = True)\n",
    "grant_to_arc_org.rename(columns = {'arc_grant_key' : 'key'}, inplace = True)\n",
    "\n",
    "node_arc_grants['key'] = node_arc_grants['key'].astype(str)\n",
    "grant_to_arc_org['key'] = grant_to_arc_org['key'].astype(str)\n",
    "\n",
    "left_table = node_arc_grants.merge(grant_to_arc_org, on = 'key', how = 'inner')\n",
    "#left_table = node_arc_grants.join(grant_to_arc_org, on = 'key', how = 'inner')"
   ]
  },
  {
   "cell_type": "code",
   "execution_count": 5,
   "id": "1e1acb5c",
   "metadata": {},
   "outputs": [],
   "source": [
    "node_arc_orgs.rename(columns = {'key:ID' : 'arc_org_key'}, inplace = True)\n",
    "node_arc_orgs['arc_org_key'] = node_arc_orgs['arc_org_key'].astype(str)\n",
    "\n",
    "table_for_insight = left_table.merge(node_arc_orgs, on = 'arc_org_key', how = 'inner')"
   ]
  },
  {
   "cell_type": "code",
   "execution_count": 6,
   "id": "d5e33918",
   "metadata": {},
   "outputs": [
    {
     "name": "stdout",
     "output_type": "stream",
     "text": [
      "Percentage of partners that are not Universities :  31\n"
     ]
    }
   ],
   "source": [
    "table_for_insight_mini = table_for_insight[['key', 'name']]\n",
    "table_for_insight_mini_non_uni = table_for_insight[table_for_insight['name'].str.contains('University', \n",
    "                                                                                     case = False) == False]\n",
    "\n",
    "insight = (len(table_for_insight_mini_non_uni) / len(table_for_insight_mini)) * 100\n",
    "\n",
    "print(\"Percentage of partners that are not Universities : \",round(insight))"
   ]
  },
  {
   "cell_type": "markdown",
   "id": "9940f5bb",
   "metadata": {},
   "source": [
    "## Number of Grants"
   ]
  },
  {
   "cell_type": "code",
   "execution_count": 7,
   "id": "af6d7755",
   "metadata": {},
   "outputs": [
    {
     "name": "stdout",
     "output_type": "stream",
     "text": [
      "Number of Non-University Grants from node_arc_args : 10543\n"
     ]
    }
   ],
   "source": [
    "table_for_grants = table_for_insight[table_for_insight['name'].str.contains('University',\n",
    "                                                         case = False) == False]\n",
    "\n",
    "print(\"Number of Non-University Grants from node_arc_args :\", len(np.unique(np.array(table_for_grants['key']))))"
   ]
  },
  {
   "cell_type": "code",
   "execution_count": 8,
   "id": "f0116b17",
   "metadata": {},
   "outputs": [
    {
     "name": "stdout",
     "output_type": "stream",
     "text": [
      "Number of non University grants from Grants.csv file : 3967\n"
     ]
    }
   ],
   "source": [
    "grants = pd.read_csv(path + 'Grant.csv', sep = ',')\n",
    "\n",
    "list_grants_Grant_csv = list(grants['key'])\n",
    "list_grants_node_arc_orgs_csv = list(table_for_grants['key'])\n",
    "\n",
    "list_missing_grants = []\n",
    "\n",
    "for key in list_grants_node_arc_orgs_csv:\n",
    "    if key not in list_grants_Grant_csv:\n",
    "        list_missing_grants.append(key)\n",
    "        \n",
    "#print(list_missing_grants)\n",
    "\n",
    "left_table_from_grant_csv = grants.merge(grant_to_arc_org, on = 'key', how = 'inner')\n",
    "table_for_grants = left_table_from_grant_csv.merge(node_arc_orgs, on = 'arc_org_key', how = 'inner')\n",
    "\n",
    "table_for_grants_non_uni = table_for_grants[table_for_grants['name'].str.contains('University',\n",
    "                                                                                 case = False) == False]\n",
    "print(\"Number of non University grants from Grants.csv file :\",len(np.array(table_for_grants_non_uni['key'].unique())))"
   ]
  },
  {
   "cell_type": "markdown",
   "id": "d2db169f",
   "metadata": {},
   "source": [
    "## Number of Admin Organisations"
   ]
  },
  {
   "cell_type": "code",
   "execution_count": 9,
   "id": "0cbcaeda",
   "metadata": {},
   "outputs": [
    {
     "name": "stdout",
     "output_type": "stream",
     "text": [
      "Number of Administering organisations from node_arc_grants : 109\n"
     ]
    }
   ],
   "source": [
    "table_for_admin_orgs = table_for_insight[table_for_insight['name'].str.contains('University',\n",
    "                                                         case = False) == False]\n",
    "\n",
    "print(\"Number of Administering organisations from node_arc_grants :\",\n",
    "              len(np.array(table_for_admin_orgs['arc_announcement_administering_organisation'].unique())))"
   ]
  },
  {
   "cell_type": "code",
   "execution_count": 10,
   "id": "b9d09d24",
   "metadata": {},
   "outputs": [
    {
     "name": "stdout",
     "output_type": "stream",
     "text": [
      "Number of Administering organisations from Grants.csv file : 46\n"
     ]
    }
   ],
   "source": [
    "list_admin_orgs_Grant_csv = list(grants['announcement-administering-organisation'])\n",
    "list_admin_orgs_node_arc_orgs_csv = list(table_for_admin_orgs['arc_announcement_administering_organisation'])\n",
    "\n",
    "list_missing_admin_orgs = []\n",
    "\n",
    "for key in list_admin_orgs_node_arc_orgs_csv:\n",
    "    if key not in list_admin_orgs_Grant_csv:\n",
    "        list_missing_admin_orgs.append(key)\n",
    "        \n",
    "#print(list_missing_grants)\n",
    "\n",
    "left_table_from_grant_csv = grants.merge(grant_to_arc_org, on = 'key', how = 'inner')\n",
    "table_for_grants = left_table_from_grant_csv.merge(node_arc_orgs, on = 'arc_org_key', how = 'inner')\n",
    "\n",
    "table_for_grants_non_uni = table_for_grants[table_for_grants['name'].str.contains('University',\n",
    "                                                                                 case = False) == False]\n",
    "print(\"Number of Administering organisations from Grants.csv file :\",\n",
    "          len(np.array(table_for_grants_non_uni['announcement-administering-organisation'].unique())))"
   ]
  },
  {
   "cell_type": "markdown",
   "id": "1cc5f973",
   "metadata": {},
   "source": [
    "## Number of AUS organisation"
   ]
  },
  {
   "cell_type": "code",
   "execution_count": 11,
   "id": "20ec84ca",
   "metadata": {},
   "outputs": [
    {
     "name": "stdout",
     "output_type": "stream",
     "text": [
      "Number of Aus Organisation : 5955\n"
     ]
    }
   ],
   "source": [
    "node_abr_orgs = pd.read_csv(path + 'node_abr_orgs.csv', sep = '|', header = 0)\n",
    "node_abr_orgs_non_uni = node_abr_orgs[node_abr_orgs['name'].str.contains('University', case = False) == False]\n",
    "\n",
    "print(\"Number of Aus Organisation :\",len(np.array(node_abr_orgs_non_uni['name'].unique())))"
   ]
  },
  {
   "cell_type": "markdown",
   "id": "5dbbc8fa",
   "metadata": {},
   "source": [
    "## Partner Organisations"
   ]
  },
  {
   "cell_type": "code",
   "execution_count": 36,
   "id": "6ebc1b60",
   "metadata": {},
   "outputs": [
    {
     "name": "stdout",
     "output_type": "stream",
     "text": [
      "This data is from node_arc_grants.csv\n",
      "                                                    key\n",
      "name                                                   \n",
      "Commonwealth scientific and industrial research...  513\n",
      "Other                                               431\n",
      "Australian nuclear science and technology organ...  121\n",
      "The walter and eliza hall institute of medical ...  100\n",
      "South australian museum                              88\n",
      "...                                                 ...\n",
      "Goldfields aboriginal language centre                 1\n",
      "Goldstar resources nl                                 1\n",
      "Goldwind australia pty ltd                            1\n",
      "Gollings photography pty. ltd                         1\n",
      "Landcare research new zealand limited                 1\n",
      "\n",
      "[12657 rows x 1 columns]\n"
     ]
    }
   ],
   "source": [
    "table_for_insight_non_uni = table_for_insight[table_for_insight['name'].str.contains('University', \n",
    "                                                                                    case = False) == False]\n",
    "table_for_insight_partner_orgs = table_for_insight_non_uni[['key', 'name']]\n",
    "print(\"This data is from node_arc_grants.csv\")\n",
    "print(table_for_insight_partner_orgs.groupby(['name']).nunique().sort_values(['key'], ascending = False))"
   ]
  },
  {
   "cell_type": "code",
   "execution_count": 37,
   "id": "6387eb30",
   "metadata": {},
   "outputs": [
    {
     "name": "stdout",
     "output_type": "stream",
     "text": [
      "This data is from Grants.csv\n",
      "                                                    key\n",
      "name                                                   \n",
      "Commonwealth scientific and industrial research...  291\n",
      "Australian nuclear science and technology organ...   75\n",
      "Imperial college london                              63\n",
      "Massachusetts institute of technology                51\n",
      "Melbourne water corporation                          50\n",
      "...                                                 ...\n",
      "H.j. heinz company australia limited                  1\n",
      "Gydle inc                                             1\n",
      "Gwydir shire council                                  1\n",
      "Guodian new energy technology research institute      1\n",
      "Landgate                                              1\n",
      "\n",
      "[5458 rows x 1 columns]\n"
     ]
    }
   ],
   "source": [
    "table_for_grants_non_uni = table_for_grants[table_for_grants['name'].str.contains('University', \n",
    "                                                                                    case = False) == False]\n",
    "table_for_grants_partner_orgs = table_for_grants_non_uni[['key', 'name']]\n",
    "print(\"This data is from Grants.csv\")\n",
    "print(table_for_grants_partner_orgs.groupby(['name']).nunique().sort_values(['key'], ascending = False))"
   ]
  },
  {
   "cell_type": "code",
   "execution_count": 32,
   "id": "b9b09321",
   "metadata": {},
   "outputs": [
    {
     "data": {
      "text/plain": [
       "code                                        object\n",
       "key                                         object\n",
       "announcement-administering-organisation     object\n",
       "scheme-name                                 object\n",
       "funding-at-announcement                      int64\n",
       "grant-status                                object\n",
       "funding-commencement-year                    int64\n",
       "project-start-date                          object\n",
       "anticipated-end-date                        object\n",
       "funding-current                            float64\n",
       "grant_title                                 object\n",
       "arc_org_key                                 object\n",
       "source                                      object\n",
       "local_id                                    object\n",
       "last_updated                                object\n",
       "name                                        object\n",
       "source_file                                 object\n",
       "type                                        object\n",
       ":LABEL                                      object\n",
       "dtype: object"
      ]
     },
     "execution_count": 32,
     "metadata": {},
     "output_type": "execute_result"
    }
   ],
   "source": [
    "table_for_grants.dtypes"
   ]
  },
  {
   "cell_type": "code",
   "execution_count": 13,
   "id": "ed0d9ace",
   "metadata": {},
   "outputs": [
    {
     "name": "stdout",
     "output_type": "stream",
     "text": [
      "Number of non university grants from node_arc_grants.csv : 10543\n"
     ]
    }
   ],
   "source": [
    "print(\"Number of non university grants from node_arc_grants.csv :\",\n",
    "              len(np.array(table_for_insight_non_uni['key'].unique())))"
   ]
  },
  {
   "cell_type": "code",
   "execution_count": 35,
   "id": "cb5f3f97",
   "metadata": {},
   "outputs": [
    {
     "name": "stdout",
     "output_type": "stream",
     "text": [
      "CSIRO : 0.04865787726453571\n",
      "CSIRO grant.csv : 0.027601252015555345\n"
     ]
    }
   ],
   "source": [
    "print('CSIRO :', 513/10543)\n",
    "print('CSIRO grant.csv :', 291/10543)"
   ]
  },
  {
   "cell_type": "markdown",
   "id": "5113a60d",
   "metadata": {},
   "source": [
    "## Australian Business Register Organisations"
   ]
  },
  {
   "cell_type": "code",
   "execution_count": 15,
   "id": "723f8fa6",
   "metadata": {},
   "outputs": [
    {
     "data": {
      "text/plain": [
       "state\n",
       "         56\n",
       "ACT     222\n",
       "NSW    1886\n",
       "NT       86\n",
       "QLD     899\n",
       "SA      468\n",
       "TAS     128\n",
       "VIC    1625\n",
       "WA      589\n",
       "Name: key:ID, dtype: int64"
      ]
     },
     "execution_count": 15,
     "metadata": {},
     "output_type": "execute_result"
    }
   ],
   "source": [
    "node_abr_orgs_non_uni.groupby(['state'])['key:ID'].nunique()"
   ]
  },
  {
   "cell_type": "markdown",
   "id": "735a26ad",
   "metadata": {},
   "source": [
    "## Keyword Frequency in Grant Summary"
   ]
  },
  {
   "cell_type": "code",
   "execution_count": 16,
   "id": "dbd3141c",
   "metadata": {},
   "outputs": [],
   "source": [
    "grant_summary = pd.read_csv(path + 'grant_summary(v2).csv', sep = ',', header = 0)\n",
    "\n",
    "table_for_keyword_summary = table_for_grants_non_uni.merge(grant_summary, on = 'code', how = 'inner')"
   ]
  },
  {
   "cell_type": "code",
   "execution_count": 17,
   "id": "4caaf386",
   "metadata": {},
   "outputs": [
    {
     "data": {
      "text/html": [
       "<div>\n",
       "<style scoped>\n",
       "    .dataframe tbody tr th:only-of-type {\n",
       "        vertical-align: middle;\n",
       "    }\n",
       "\n",
       "    .dataframe tbody tr th {\n",
       "        vertical-align: top;\n",
       "    }\n",
       "\n",
       "    .dataframe thead th {\n",
       "        text-align: right;\n",
       "    }\n",
       "</style>\n",
       "<table border=\"1\" class=\"dataframe\">\n",
       "  <thead>\n",
       "    <tr style=\"text-align: right;\">\n",
       "      <th></th>\n",
       "      <th>key</th>\n",
       "    </tr>\n",
       "    <tr>\n",
       "      <th>keywords_by_gensim</th>\n",
       "      <th></th>\n",
       "    </tr>\n",
       "  </thead>\n",
       "  <tbody>\n",
       "    <tr>\n",
       "      <th>project</th>\n",
       "      <td>1761</td>\n",
       "    </tr>\n",
       "    <tr>\n",
       "      <th>australia</th>\n",
       "      <td>261</td>\n",
       "    </tr>\n",
       "    <tr>\n",
       "      <th>research</th>\n",
       "      <td>259</td>\n",
       "    </tr>\n",
       "    <tr>\n",
       "      <th>technology</th>\n",
       "      <td>234</td>\n",
       "    </tr>\n",
       "    <tr>\n",
       "      <th>industry</th>\n",
       "      <td>171</td>\n",
       "    </tr>\n",
       "    <tr>\n",
       "      <th>...</th>\n",
       "      <td>...</td>\n",
       "    </tr>\n",
       "    <tr>\n",
       "      <th>hunter</th>\n",
       "      <td>1</td>\n",
       "    </tr>\n",
       "    <tr>\n",
       "      <th>hyaluronidase</th>\n",
       "      <td>1</td>\n",
       "    </tr>\n",
       "    <tr>\n",
       "      <th>hybrid</th>\n",
       "      <td>1</td>\n",
       "    </tr>\n",
       "    <tr>\n",
       "      <th>hybridisation</th>\n",
       "      <td>1</td>\n",
       "    </tr>\n",
       "    <tr>\n",
       "      <th>zoroastrianism</th>\n",
       "      <td>1</td>\n",
       "    </tr>\n",
       "  </tbody>\n",
       "</table>\n",
       "<p>4061 rows × 1 columns</p>\n",
       "</div>"
      ],
      "text/plain": [
       "                     key\n",
       "keywords_by_gensim      \n",
       "project             1761\n",
       "australia            261\n",
       "research             259\n",
       "technology           234\n",
       "industry             171\n",
       "...                  ...\n",
       "hunter                 1\n",
       "hyaluronidase          1\n",
       "hybrid                 1\n",
       "hybridisation          1\n",
       "zoroastrianism         1\n",
       "\n",
       "[4061 rows x 1 columns]"
      ]
     },
     "execution_count": 17,
     "metadata": {},
     "output_type": "execute_result"
    }
   ],
   "source": [
    "table_for_keyword_summary = table_for_keyword_summary[['key', 'keywords_by_gensim']]\n",
    "table_for_keyword_summary.groupby(['keywords_by_gensim']).nunique().sort_values(['key'], ascending = False)\n",
    "\n",
    "#This visual has a filter which filters out the keyword 'project'."
   ]
  },
  {
   "cell_type": "markdown",
   "id": "985745a6",
   "metadata": {},
   "source": [
    "## Fields of Research"
   ]
  },
  {
   "cell_type": "code",
   "execution_count": 18,
   "id": "f3924b7b",
   "metadata": {},
   "outputs": [],
   "source": [
    "for_graph = pd.read_csv(path + 'FOR_graph.csv', sep = ',', header = 0)\n",
    "grant_for = pd.read_csv(path + 'grant_for.csv', sep = ',', header = 0)\n",
    "\n",
    "grant_for.rename(columns = {'Code' : 'code'}, inplace = True)\n",
    "for_graph['key'] = for_graph['Type'].map(str) + ':' + '0' + for_graph['TargetCode'].map(str)\n",
    "\n",
    "left_table_field_research = table_for_grants_non_uni.merge(grant_for, on = 'code', how = 'inner')\n",
    "left_table_field_research.rename(columns = {'key_y' : 'key'}, inplace = True)\n",
    "\n",
    "table_for_field_research = left_table_field_research.merge(for_graph, on = 'key', how = 'inner')"
   ]
  },
  {
   "cell_type": "code",
   "execution_count": 19,
   "id": "2d004c30",
   "metadata": {},
   "outputs": [
    {
     "data": {
      "text/html": [
       "<div>\n",
       "<style scoped>\n",
       "    .dataframe tbody tr th:only-of-type {\n",
       "        vertical-align: middle;\n",
       "    }\n",
       "\n",
       "    .dataframe tbody tr th {\n",
       "        vertical-align: top;\n",
       "    }\n",
       "\n",
       "    .dataframe thead th {\n",
       "        text-align: right;\n",
       "    }\n",
       "</style>\n",
       "<table border=\"1\" class=\"dataframe\">\n",
       "  <thead>\n",
       "    <tr style=\"text-align: right;\">\n",
       "      <th></th>\n",
       "      <th>key_x</th>\n",
       "    </tr>\n",
       "    <tr>\n",
       "      <th>TargetFOR</th>\n",
       "      <th></th>\n",
       "    </tr>\n",
       "  </thead>\n",
       "  <tbody>\n",
       "    <tr>\n",
       "      <th>Environmental Science and Management</th>\n",
       "      <td>282</td>\n",
       "    </tr>\n",
       "    <tr>\n",
       "      <th>Materials Engineering</th>\n",
       "      <td>275</td>\n",
       "    </tr>\n",
       "    <tr>\n",
       "      <th>Biochemistry and Cell Biology</th>\n",
       "      <td>259</td>\n",
       "    </tr>\n",
       "    <tr>\n",
       "      <th>Civil Engineering</th>\n",
       "      <td>195</td>\n",
       "    </tr>\n",
       "    <tr>\n",
       "      <th>Artificial Intelligence and Image Processing</th>\n",
       "      <td>189</td>\n",
       "    </tr>\n",
       "    <tr>\n",
       "      <th>...</th>\n",
       "      <td>...</td>\n",
       "    </tr>\n",
       "    <tr>\n",
       "      <th>Other Agricultural and Veterinary Sciences</th>\n",
       "      <td>5</td>\n",
       "    </tr>\n",
       "    <tr>\n",
       "      <th>Other Information and Computing Sciences</th>\n",
       "      <td>4</td>\n",
       "    </tr>\n",
       "    <tr>\n",
       "      <th>Other Earth Sciences</th>\n",
       "      <td>4</td>\n",
       "    </tr>\n",
       "    <tr>\n",
       "      <th>Other Engineering</th>\n",
       "      <td>3</td>\n",
       "    </tr>\n",
       "    <tr>\n",
       "      <th>Other Environmental Sciences</th>\n",
       "      <td>2</td>\n",
       "    </tr>\n",
       "  </tbody>\n",
       "</table>\n",
       "<p>72 rows × 1 columns</p>\n",
       "</div>"
      ],
      "text/plain": [
       "                                              key_x\n",
       "TargetFOR                                          \n",
       "Environmental Science and Management            282\n",
       "Materials Engineering                           275\n",
       "Biochemistry and Cell Biology                   259\n",
       "Civil Engineering                               195\n",
       "Artificial Intelligence and Image Processing    189\n",
       "...                                             ...\n",
       "Other Agricultural and Veterinary Sciences        5\n",
       "Other Information and Computing Sciences          4\n",
       "Other Earth Sciences                              4\n",
       "Other Engineering                                 3\n",
       "Other Environmental Sciences                      2\n",
       "\n",
       "[72 rows x 1 columns]"
      ]
     },
     "execution_count": 19,
     "metadata": {},
     "output_type": "execute_result"
    }
   ],
   "source": [
    "table_for_field_research = table_for_field_research[['key_x', 'TargetFOR']]\n",
    "table_for_field_research.groupby(['TargetFOR']).nunique().sort_values(['key_x'], ascending = False)"
   ]
  },
  {
   "cell_type": "markdown",
   "id": "3ccbbc69",
   "metadata": {},
   "source": [
    "## FOR Codes"
   ]
  },
  {
   "cell_type": "code",
   "execution_count": 20,
   "id": "b9f7b636",
   "metadata": {},
   "outputs": [
    {
     "name": "stdout",
     "output_type": "stream",
     "text": [
      "Number of FOR Codes : 175\n"
     ]
    }
   ],
   "source": [
    "print(\"Number of FOR Codes :\",len(np.array(left_table_field_research['key'].unique())))"
   ]
  },
  {
   "cell_type": "markdown",
   "id": "93ab400a",
   "metadata": {},
   "source": [
    "## Commencement Year"
   ]
  },
  {
   "cell_type": "code",
   "execution_count": 21,
   "id": "ce66af1c",
   "metadata": {},
   "outputs": [
    {
     "data": {
      "text/plain": [
       "start_year\n",
       "2000.0      2\n",
       "2001.0     30\n",
       "2002.0    502\n",
       "2003.0    593\n",
       "2004.0    553\n",
       "2005.0    540\n",
       "2006.0    466\n",
       "2007.0    430\n",
       "2008.0    462\n",
       "2009.0    513\n",
       "2010.0    903\n",
       "2011.0    791\n",
       "2012.0    605\n",
       "2013.0    446\n",
       "2014.0    536\n",
       "2015.0    437\n",
       "2016.0    554\n",
       "2017.0    351\n",
       "2018.0    286\n",
       "2019.0    320\n",
       "2020.0    361\n",
       "2021.0    436\n",
       "2022.0    404\n",
       "2023.0      9\n",
       "Name: key, dtype: int64"
      ]
     },
     "execution_count": 21,
     "metadata": {},
     "output_type": "execute_result"
    }
   ],
   "source": [
    "table_for_insight_non_uni.groupby(['start_year'])['key'].nunique()"
   ]
  },
  {
   "cell_type": "code",
   "execution_count": 22,
   "id": "ef4adafd",
   "metadata": {},
   "outputs": [
    {
     "data": {
      "text/plain": [
       "funding-commencement-year\n",
       "2013    515\n",
       "2014    504\n",
       "2015    447\n",
       "2016    420\n",
       "2017    309\n",
       "2018    326\n",
       "2019    328\n",
       "2020    455\n",
       "2021    384\n",
       "2022    279\n",
       "Name: key, dtype: int64"
      ]
     },
     "execution_count": 22,
     "metadata": {},
     "output_type": "execute_result"
    }
   ],
   "source": [
    "table_for_grants_non_uni.groupby(['funding-commencement-year'])['key'].nunique()"
   ]
  },
  {
   "cell_type": "markdown",
   "id": "888befcb",
   "metadata": {},
   "source": [
    "## Socio Economic Objective by number of collaborative Grants"
   ]
  },
  {
   "cell_type": "code",
   "execution_count": 23,
   "id": "44dbbff4",
   "metadata": {},
   "outputs": [],
   "source": [
    "socio_economic_objective = pd.read_csv(path + 'socio_economic_objective.csv', sep = ',', header = 0)\n",
    "socio_economic_objective.rename(columns = {'Grant Code' : 'code', 'Code' : 'key'}, inplace = True)\n",
    "\n",
    "table_for_socio_economic_objective = table_for_grants_non_uni.merge(socio_economic_objective,\n",
    "                                                           on = 'code', how = 'inner')"
   ]
  },
  {
   "cell_type": "code",
   "execution_count": 24,
   "id": "787ce9bb",
   "metadata": {},
   "outputs": [
    {
     "data": {
      "text/html": [
       "<div>\n",
       "<style scoped>\n",
       "    .dataframe tbody tr th:only-of-type {\n",
       "        vertical-align: middle;\n",
       "    }\n",
       "\n",
       "    .dataframe tbody tr th {\n",
       "        vertical-align: top;\n",
       "    }\n",
       "\n",
       "    .dataframe thead th {\n",
       "        text-align: right;\n",
       "    }\n",
       "</style>\n",
       "<table border=\"1\" class=\"dataframe\">\n",
       "  <thead>\n",
       "    <tr style=\"text-align: right;\">\n",
       "      <th></th>\n",
       "      <th>key_x</th>\n",
       "    </tr>\n",
       "    <tr>\n",
       "      <th>Name</th>\n",
       "      <th></th>\n",
       "    </tr>\n",
       "  </thead>\n",
       "  <tbody>\n",
       "    <tr>\n",
       "      <th>Expanding Knowledge In the Biological Sciences</th>\n",
       "      <td>489</td>\n",
       "    </tr>\n",
       "    <tr>\n",
       "      <th>Expanding Knowledge In the Physical Sciences</th>\n",
       "      <td>369</td>\n",
       "    </tr>\n",
       "    <tr>\n",
       "      <th>Expanding Knowledge In Engineering</th>\n",
       "      <td>308</td>\n",
       "    </tr>\n",
       "    <tr>\n",
       "      <th>Expanding Knowledge In Technology</th>\n",
       "      <td>264</td>\n",
       "    </tr>\n",
       "    <tr>\n",
       "      <th>Expanding Knowledge In the Chemical Sciences</th>\n",
       "      <td>206</td>\n",
       "    </tr>\n",
       "    <tr>\n",
       "      <th>...</th>\n",
       "      <td>...</td>\n",
       "    </tr>\n",
       "    <tr>\n",
       "      <th>Management of Greenhouse Gas Emissions From Animal Production</th>\n",
       "      <td>1</td>\n",
       "    </tr>\n",
       "    <tr>\n",
       "      <th>Soy Products</th>\n",
       "      <td>1</td>\n",
       "    </tr>\n",
       "    <tr>\n",
       "      <th>Sown Pastures (Excl. Lucerne)</th>\n",
       "      <td>1</td>\n",
       "    </tr>\n",
       "    <tr>\n",
       "      <th>Management of Greenhouse Gas Emissions From Energy Activities</th>\n",
       "      <td>1</td>\n",
       "    </tr>\n",
       "    <tr>\n",
       "      <th>3d Printers and Printing</th>\n",
       "      <td>1</td>\n",
       "    </tr>\n",
       "  </tbody>\n",
       "</table>\n",
       "<p>719 rows × 1 columns</p>\n",
       "</div>"
      ],
      "text/plain": [
       "                                                    key_x\n",
       "Name                                                     \n",
       "Expanding Knowledge In the Biological Sciences        489\n",
       "Expanding Knowledge In the Physical Sciences          369\n",
       "Expanding Knowledge In Engineering                    308\n",
       "Expanding Knowledge In Technology                     264\n",
       "Expanding Knowledge In the Chemical Sciences          206\n",
       "...                                                   ...\n",
       "Management of Greenhouse Gas Emissions From Ani...      1\n",
       "Soy Products                                            1\n",
       "Sown Pastures (Excl. Lucerne)                           1\n",
       "Management of Greenhouse Gas Emissions From Ene...      1\n",
       "3d Printers and Printing                                1\n",
       "\n",
       "[719 rows x 1 columns]"
      ]
     },
     "execution_count": 24,
     "metadata": {},
     "output_type": "execute_result"
    }
   ],
   "source": [
    "table_for_socio_economic_objective = table_for_socio_economic_objective[['Name', 'key_x']]\n",
    "table_for_socio_economic_objective.groupby(['Name']).nunique().sort_values(['key_x'], ascending = False)"
   ]
  },
  {
   "cell_type": "markdown",
   "id": "be701d50",
   "metadata": {},
   "source": [
    "## Funding Scheme by Number of Collaborative Grants "
   ]
  },
  {
   "cell_type": "code",
   "execution_count": 27,
   "id": "07869d09",
   "metadata": {},
   "outputs": [
    {
     "name": "stdout",
     "output_type": "stream",
     "text": [
      "This data is from node_arc_orgs\n",
      "                                                     key\n",
      "arc_scheme_name                                         \n",
      "Linkage Projects                                    6893\n",
      "Discovery Projects                                  2340\n",
      "Linkage Infrastructure, Equipment and Facilities     580\n",
      "ARC Future Fellowships                               319\n",
      "ARC Centres of Excellence                             79\n",
      "Industrial Transformation Training Centres            63\n",
      "Learned Academies Special Projects                    59\n",
      "Industrial Transformation Research Hubs               51\n",
      "Special Research Initiatives                          43\n",
      "Discovery Indigenous                                  30\n",
      "Research Networks                                     21\n",
      "Super Science Fellowships                             20\n",
      "Discovery Early Career Researcher Award               14\n",
      "Federation Fellowships                                10\n",
      "Linkage - CSIRO                                       10\n",
      "Discovery Indigenous Researchers Development           5\n",
      "Linkage - International                                2\n",
      "Australian Laureate Fellowships                        2\n",
      "Supporting Responses to Commonwealth Science Co...     2\n"
     ]
    }
   ],
   "source": [
    "table_for_funding_scheme_non_uni = table_for_insight_non_uni[['arc_scheme_name', 'key']]\n",
    "print(\"This data is from node_arc_orgs.csv\")\n",
    "print(table_for_funding_scheme_non_uni.groupby(['arc_scheme_name']).nunique().sort_values(['key'], ascending = False))"
   ]
  },
  {
   "cell_type": "code",
   "execution_count": 26,
   "id": "695c7815",
   "metadata": {},
   "outputs": [
    {
     "data": {
      "text/html": [
       "<div>\n",
       "<style scoped>\n",
       "    .dataframe tbody tr th:only-of-type {\n",
       "        vertical-align: middle;\n",
       "    }\n",
       "\n",
       "    .dataframe tbody tr th {\n",
       "        vertical-align: top;\n",
       "    }\n",
       "\n",
       "    .dataframe thead th {\n",
       "        text-align: right;\n",
       "    }\n",
       "</style>\n",
       "<table border=\"1\" class=\"dataframe\">\n",
       "  <thead>\n",
       "    <tr style=\"text-align: right;\">\n",
       "      <th></th>\n",
       "      <th>key</th>\n",
       "    </tr>\n",
       "    <tr>\n",
       "      <th>scheme-name</th>\n",
       "      <th></th>\n",
       "    </tr>\n",
       "  </thead>\n",
       "  <tbody>\n",
       "    <tr>\n",
       "      <th>Linkage Projects</th>\n",
       "      <td>1953</td>\n",
       "    </tr>\n",
       "    <tr>\n",
       "      <th>Discovery Projects</th>\n",
       "      <td>1468</td>\n",
       "    </tr>\n",
       "    <tr>\n",
       "      <th>Linkage Infrastructure, Equipment and Facilities</th>\n",
       "      <td>235</td>\n",
       "    </tr>\n",
       "    <tr>\n",
       "      <th>ARC Future Fellowships</th>\n",
       "      <td>113</td>\n",
       "    </tr>\n",
       "    <tr>\n",
       "      <th>Industrial Transformation Training Centres</th>\n",
       "      <td>63</td>\n",
       "    </tr>\n",
       "    <tr>\n",
       "      <th>Industrial Transformation Research Hubs</th>\n",
       "      <td>47</td>\n",
       "    </tr>\n",
       "    <tr>\n",
       "      <th>Special Research Initiatives</th>\n",
       "      <td>30</td>\n",
       "    </tr>\n",
       "    <tr>\n",
       "      <th>ARC Centres of Excellence</th>\n",
       "      <td>29</td>\n",
       "    </tr>\n",
       "    <tr>\n",
       "      <th>Discovery Indigenous</th>\n",
       "      <td>26</td>\n",
       "    </tr>\n",
       "    <tr>\n",
       "      <th>Discovery Early Career Researcher Award</th>\n",
       "      <td>3</td>\n",
       "    </tr>\n",
       "  </tbody>\n",
       "</table>\n",
       "</div>"
      ],
      "text/plain": [
       "                                                   key\n",
       "scheme-name                                           \n",
       "Linkage Projects                                  1953\n",
       "Discovery Projects                                1468\n",
       "Linkage Infrastructure, Equipment and Facilities   235\n",
       "ARC Future Fellowships                             113\n",
       "Industrial Transformation Training Centres          63\n",
       "Industrial Transformation Research Hubs             47\n",
       "Special Research Initiatives                        30\n",
       "ARC Centres of Excellence                           29\n",
       "Discovery Indigenous                                26\n",
       "Discovery Early Career Researcher Award              3"
      ]
     },
     "execution_count": 26,
     "metadata": {},
     "output_type": "execute_result"
    }
   ],
   "source": [
    "table_for_funding_scheme_non_uni_non_Grant = table_for_grants_non_uni[['scheme-name', 'key']]\n",
    "print(\"This data is from Grants.csv\")\n",
    "print(table_for_funding_scheme_non_uni_non_Grant.groupby(['scheme-name']).\\\n",
    "                                                    nunique().sort_values(['key'], ascending = False))"
   ]
  }
 ],
 "metadata": {
  "kernelspec": {
   "display_name": "Python 3 (ipykernel)",
   "language": "python",
   "name": "python3"
  },
  "language_info": {
   "codemirror_mode": {
    "name": "ipython",
    "version": 3
   },
   "file_extension": ".py",
   "mimetype": "text/x-python",
   "name": "python",
   "nbconvert_exporter": "python",
   "pygments_lexer": "ipython3",
   "version": "3.8.10"
  }
 },
 "nbformat": 4,
 "nbformat_minor": 5
}
